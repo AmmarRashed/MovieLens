{
 "cells": [
  {
   "cell_type": "code",
   "execution_count": 1,
   "metadata": {},
   "outputs": [],
   "source": [
    "import zipfile, os\n",
    "\n",
    "from pyspark import SparkContext\n",
    "from pyspark.sql import SparkSession\n",
    "from pyspark.sql.functions import udf, col, desc, round\n",
    "from pyspark.sql.types import DoubleType\n",
    "from pyspark import rdd, Row\n",
    "from math import exp"
   ]
  },
  {
   "cell_type": "markdown",
   "metadata": {},
   "source": [
    "## Initializing Spark Session"
   ]
  },
  {
   "cell_type": "code",
   "execution_count": 2,
   "metadata": {},
   "outputs": [],
   "source": [
    "sc = SparkContext.getOrCreate()\n",
    "ss = SparkSession(sc)"
   ]
  },
  {
   "cell_type": "markdown",
   "metadata": {},
   "source": [
    "## Reading data"
   ]
  },
  {
   "cell_type": "code",
   "execution_count": 3,
   "metadata": {},
   "outputs": [],
   "source": [
    "data_zipped = zipfile.ZipFile(\"data/ml-20m.zip\")"
   ]
  },
  {
   "cell_type": "code",
   "execution_count": 4,
   "metadata": {},
   "outputs": [],
   "source": [
    "DATA_ROOT_PATH = \"data\"\n",
    "\n",
    "if not os.path.isdir(\"data\"):\n",
    "    os.makedirs(\"data\")"
   ]
  },
  {
   "cell_type": "code",
   "execution_count": 5,
   "metadata": {},
   "outputs": [
    {
     "name": "stdout",
     "output_type": "stream",
     "text": [
      "Reading genome-scores.csv\n",
      "Reading genome-tags.csv\n",
      "Reading links.csv\n",
      "Reading movies.csv\n",
      "Reading ratings.csv\n",
      "Reading README.txt\n",
      "Reading tags.csv\n"
     ]
    }
   ],
   "source": [
    "for f in data_zipped.filelist:\n",
    "    filename = f.filename\n",
    "    print(\"Reading {0}\".format(filename))\n",
    "    if os.path.exists(os.path.join(DATA_ROOT_PATH, filename)): continue\n",
    "    \n",
    "    data_zipped.extract(filename, DATA_ROOT_PATH)"
   ]
  },
  {
   "cell_type": "code",
   "execution_count": 6,
   "metadata": {},
   "outputs": [],
   "source": [
    "readcsv = lambda filename: ss.read\\\n",
    "                            .format(\"csv\")\\\n",
    "                            .option('header', 'true')\\\n",
    "                            .load(os.path.join(\"data\",filename), inferSchema='true')"
   ]
  },
  {
   "cell_type": "code",
   "execution_count": 7,
   "metadata": {},
   "outputs": [
    {
     "name": "stdout",
     "output_type": "stream",
     "text": [
      "+-------+-----+--------------------+\n",
      "|movieId|tagId|           relevance|\n",
      "+-------+-----+--------------------+\n",
      "|      1|    1|0.025000000000000022|\n",
      "|      1|    2|0.025000000000000022|\n",
      "|      1|    3|0.057750000000000024|\n",
      "|      1|    4|             0.09675|\n",
      "|      1|    5|             0.14675|\n",
      "+-------+-----+--------------------+\n",
      "only showing top 5 rows\n",
      "\n"
     ]
    }
   ],
   "source": [
    "genome_scores = readcsv(\"genome-scores.csv\")\n",
    "genome_scores.cache()\n",
    "genome_scores.show(5)"
   ]
  },
  {
   "cell_type": "code",
   "execution_count": 8,
   "metadata": {},
   "outputs": [
    {
     "name": "stdout",
     "output_type": "stream",
     "text": [
      "+-----+------------+\n",
      "|tagId|         tag|\n",
      "+-----+------------+\n",
      "|    1|         007|\n",
      "|    2|007 (series)|\n",
      "|    3|18th century|\n",
      "|    4|       1920s|\n",
      "|    5|       1930s|\n",
      "+-----+------------+\n",
      "only showing top 5 rows\n",
      "\n"
     ]
    }
   ],
   "source": [
    "genome_tags = readcsv(\"genome-tags.csv\")\n",
    "genome_tags.show(5)"
   ]
  },
  {
   "cell_type": "code",
   "execution_count": 9,
   "metadata": {},
   "outputs": [
    {
     "name": "stdout",
     "output_type": "stream",
     "text": [
      "+-------+------+------+\n",
      "|movieId|imdbId|tmdbId|\n",
      "+-------+------+------+\n",
      "|      1|114709|   862|\n",
      "|      2|113497|  8844|\n",
      "|      3|113228| 15602|\n",
      "|      4|114885| 31357|\n",
      "|      5|113041| 11862|\n",
      "+-------+------+------+\n",
      "only showing top 5 rows\n",
      "\n"
     ]
    }
   ],
   "source": [
    "links = readcsv(\"links.csv\")\n",
    "links.show(5)"
   ]
  },
  {
   "cell_type": "code",
   "execution_count": 10,
   "metadata": {},
   "outputs": [
    {
     "name": "stdout",
     "output_type": "stream",
     "text": [
      "+-------+--------------------+--------------------+\n",
      "|movieId|               title|              genres|\n",
      "+-------+--------------------+--------------------+\n",
      "|      1|    Toy Story (1995)|Adventure|Animati...|\n",
      "|      2|      Jumanji (1995)|Adventure|Childre...|\n",
      "|      3|Grumpier Old Men ...|      Comedy|Romance|\n",
      "|      4|Waiting to Exhale...|Comedy|Drama|Romance|\n",
      "|      5|Father of the Bri...|              Comedy|\n",
      "+-------+--------------------+--------------------+\n",
      "only showing top 5 rows\n",
      "\n"
     ]
    }
   ],
   "source": [
    "movies = readcsv(\"movies.csv\")\n",
    "movies.cache()\n",
    "movies.show(5)"
   ]
  },
  {
   "cell_type": "code",
   "execution_count": 11,
   "metadata": {},
   "outputs": [
    {
     "name": "stdout",
     "output_type": "stream",
     "text": [
      "+------+-------+------+----------+\n",
      "|userId|movieId|rating| timestamp|\n",
      "+------+-------+------+----------+\n",
      "|     1|      2|   3.5|1112486027|\n",
      "|     1|     29|   3.5|1112484676|\n",
      "|     1|     32|   3.5|1112484819|\n",
      "|     1|     47|   3.5|1112484727|\n",
      "|     1|     50|   3.5|1112484580|\n",
      "+------+-------+------+----------+\n",
      "only showing top 5 rows\n",
      "\n"
     ]
    }
   ],
   "source": [
    "ratings = readcsv(\"ratings.csv\")\n",
    "ratings.show(5)"
   ]
  },
  {
   "cell_type": "code",
   "execution_count": 12,
   "metadata": {},
   "outputs": [
    {
     "name": "stdout",
     "output_type": "stream",
     "text": [
      "+------+-------+-------------+----------+\n",
      "|userId|movieId|          tag| timestamp|\n",
      "+------+-------+-------------+----------+\n",
      "|    18|   4141|  Mark Waters|1240597180|\n",
      "|    65|    208|    dark hero|1368150078|\n",
      "|    65|    353|    dark hero|1368150079|\n",
      "|    65|    521|noir thriller|1368149983|\n",
      "|    65|    592|    dark hero|1368150078|\n",
      "+------+-------+-------------+----------+\n",
      "only showing top 5 rows\n",
      "\n"
     ]
    }
   ],
   "source": [
    "tags = readcsv(\"tags.csv\")\n",
    "tags.show(5)"
   ]
  },
  {
   "cell_type": "markdown",
   "metadata": {},
   "source": [
    "## 1) Users' tag assignment reliability\n",
    "<img src=\"misc/critic.jpeg\" >\n",
    "\n",
    "### 1.1) Which \"User\" gave which \"Tag\" to which \"Movie\"?"
   ]
  },
  {
   "cell_type": "code",
   "execution_count": 13,
   "metadata": {},
   "outputs": [
    {
     "name": "stdout",
     "output_type": "stream",
     "text": [
      "+------+-----+-------+\n",
      "|userId|tagId|movieId|\n",
      "+------+-----+-------+\n",
      "|    65|  288|    208|\n",
      "|    65|  288|    353|\n",
      "|    65|  712|    521|\n",
      "|    65|  288|    592|\n",
      "|    65|  149|    668|\n",
      "|    65|  894|    898|\n",
      "|    65|  712|   1248|\n",
      "|    65|  630|   1391|\n",
      "|    65|  700|   1617|\n",
      "|    65|  579|   1694|\n",
      "+------+-----+-------+\n",
      "only showing top 10 rows\n",
      "\n"
     ]
    }
   ],
   "source": [
    "userId_tagId_movieId = tags.join(genome_tags, on=\"tag\").select([\"userId\",\"tagId\",\"movieId\"])\n",
    "userId_tagId_movieId.cache()\n",
    "userId_tagId_movieId.show(10)"
   ]
  },
  {
   "cell_type": "markdown",
   "metadata": {},
   "source": [
    "### 1.2) How relevant each tag assignment was"
   ]
  },
  {
   "cell_type": "code",
   "execution_count": 14,
   "metadata": {},
   "outputs": [
    {
     "name": "stdout",
     "output_type": "stream",
     "text": [
      "+-----+-------+------+------------------+\n",
      "|tagId|movieId|userId|         relevance|\n",
      "+-----+-------+------+------------------+\n",
      "|   29|      1|135595|0.8919999999999999|\n",
      "|   29|      1|131900|0.8919999999999999|\n",
      "|   29|      1|111202|0.8919999999999999|\n",
      "|   29|      1|107711|0.8919999999999999|\n",
      "|   29|      1|103582|0.8919999999999999|\n",
      "|   29|      1|103125|0.8919999999999999|\n",
      "|   29|      1| 76878|0.8919999999999999|\n",
      "|   29|      1| 72257|0.8919999999999999|\n",
      "|   29|      1| 72073|0.8919999999999999|\n",
      "|   29|      1| 10616|0.8919999999999999|\n",
      "+-----+-------+------+------------------+\n",
      "only showing top 10 rows\n",
      "\n"
     ]
    }
   ],
   "source": [
    "userId_tagId_movieId_relevance = userId_tagId_movieId.join(genome_scores, on=[\"tagId\",\"movieId\"])\n",
    "userId_tagId_movieId_relevance.show(10)"
   ]
  },
  {
   "cell_type": "markdown",
   "metadata": {},
   "source": [
    "### 1.3) Calculating user reliability (ranges btw 0 --> 1)\n",
    "#### Irrelevant tag assignments are punished\n",
    "First multiply relevance with 10 and then substract $8$ so relevance score range will be between $-6$ and $6$ and then apply sigmoid function.\n",
    "Relevance scores less than or equal to $0.2$ will go closer to $0$.\n",
    "- $ R = \\sigma(r * 15 - 9) $\n",
    "- $R$ Reliability score\n",
    "- $r$ Relevance score\n",
    "<img src=\"misc/sigmoid.png\">"
   ]
  },
  {
   "cell_type": "code",
   "execution_count": 15,
   "metadata": {},
   "outputs": [],
   "source": [
    "sigmoid = udf(lambda x: 1/(1+exp(-x)))"
   ]
  },
  {
   "cell_type": "code",
   "execution_count": 16,
   "metadata": {
    "scrolled": false
   },
   "outputs": [
    {
     "name": "stdout",
     "output_type": "stream",
     "text": [
      "+------+------------------+\n",
      "|userId|       reliability|\n",
      "+------+------------------+\n",
      "| 81949|0.9975273768433653|\n",
      "| 50441|0.9975273768433653|\n",
      "|136694|0.9975181101552658|\n",
      "|119384|0.9975181101552658|\n",
      "|136455|0.9975181101552658|\n",
      "| 68839|0.9975181101552658|\n",
      "| 23923|0.9975181101552658|\n",
      "|113642|0.9975181101552658|\n",
      "|105357|0.9975181101552658|\n",
      "| 20109|0.9975180928341759|\n",
      "+------+------------------+\n",
      "only showing top 10 rows\n",
      "\n"
     ]
    }
   ],
   "source": [
    "users_reliability = userId_tagId_movieId_relevance.select([\"userId\",\"relevance\"])\\\n",
    "                                            .withColumn(\"reliability\", sigmoid(userId_tagId_movieId_relevance.relevance*15-9).cast(DoubleType()))\\\n",
    "                                            .groupBy(\"userId\").avg(\"reliability\")\\\n",
    "                                            .select([\"userId\", col(\"avg(reliability)\").alias(\"reliability\")])\\\n",
    "                                            .sort(desc(\"reliability\"))\n",
    "\n",
    "users_reliability.show(10)"
   ]
  },
  {
   "cell_type": "markdown",
   "metadata": {},
   "source": [
    "## 2) Most reliably rated movies\n",
    "Ratings are multiplied by users' reliability scores"
   ]
  },
  {
   "cell_type": "code",
   "execution_count": 17,
   "metadata": {},
   "outputs": [
    {
     "name": "stdout",
     "output_type": "stream",
     "text": [
      "+------+-------+------+\n",
      "|userId|movieId|rating|\n",
      "+------+-------+------+\n",
      "|  4935|     50|   1.6|\n",
      "|  4935|    288|   1.9|\n",
      "|  4935|    413|   2.2|\n",
      "|  4935|    527|   1.4|\n",
      "|  4935|    546|   0.5|\n",
      "|  4935|    562|   1.9|\n",
      "|  4935|    745|   1.6|\n",
      "|  4935|   1175|   1.4|\n",
      "|  4935|   1220|   1.4|\n",
      "|  4935|   1235|   1.4|\n",
      "+------+-------+------+\n",
      "only showing top 10 rows\n",
      "\n"
     ]
    }
   ],
   "source": [
    "userId_movieId_ratings  = ratings.join(users_reliability, on=\"userId\")\\\n",
    "                                 .withColumn(\"rating\", round(col(\"rating\")*col(\"reliability\"), 1))\\\n",
    "                                 .select([\"userId\", \"movieId\", \"rating\"])\n",
    "userId_movieId_ratings.cache()\n",
    "userId_movieId_ratings.show(10)"
   ]
  },
  {
   "cell_type": "code",
   "execution_count": 18,
   "metadata": {},
   "outputs": [
    {
     "name": "stdout",
     "output_type": "stream",
     "text": [
      "+-------+--------------------+------+\n",
      "|movieId|               title|rating|\n",
      "+-------+--------------------+------+\n",
      "|  81736|Hamlet (Gamlet) (...|   5.0|\n",
      "|  94153| Cold Storage (2000)|   5.0|\n",
      "|  27829|      Slasher (2004)|   5.0|\n",
      "|  94027|Uwasa No Onna (Th...|   5.0|\n",
      "|  86055|Foster Brothers, ...|   5.0|\n",
      "|  87332|City Below, The (...|   5.0|\n",
      "|  93967|Keeping the Promi...|   5.0|\n",
      "|  89083|Great White Silen...|   5.0|\n",
      "|  51402|Forest for the Tr...|   5.0|\n",
      "|  93707|Prom Queen: The M...|   5.0|\n",
      "+-------+--------------------+------+\n",
      "only showing top 10 rows\n",
      "\n"
     ]
    }
   ],
   "source": [
    "movieId_title_rating = userId_movieId_ratings.select([\"movieId\", \"rating\"])\\\n",
    "                                       .groupBy(\"movieId\").avg(\"rating\")\\\n",
    "                                       .join(movies, on=\"movieId\")\\\n",
    "                                       .select([\"movieId\", \"title\", col(\"avg(rating)\").alias(\"rating\")])\\\n",
    "                                       .sort(desc(\"rating\"))\n",
    "\n",
    "movieId_title_rating.show(10)"
   ]
  },
  {
   "cell_type": "markdown",
   "metadata": {},
   "source": [
    "### Most rated movie\n",
    "\n",
    "<img src=\"misc/best_movie.jpg\" width=400>"
   ]
  },
  {
   "cell_type": "markdown",
   "metadata": {},
   "source": [
    "## 3) Most reliably rated tags"
   ]
  },
  {
   "cell_type": "code",
   "execution_count": 19,
   "metadata": {},
   "outputs": [
    {
     "name": "stdout",
     "output_type": "stream",
     "text": [
      "+-----+--------------------+------+\n",
      "|tagId|                 tag|rating|\n",
      "+-----+--------------------+------+\n",
      "|  654|           minnesota|   4.8|\n",
      "|  590|         king arthur|   4.8|\n",
      "|  976|       studio ghibli|   4.6|\n",
      "|  290|           dc comics|   4.5|\n",
      "|  760|oscar (best writi...|   4.5|\n",
      "|  591|             kubrick|4.4375|\n",
      "|  677|              mozart|   4.4|\n",
      "|  858|    robert downey jr|   4.3|\n",
      "|  207|        chris tucker|   4.3|\n",
      "|  879| saturday night live|  4.25|\n",
      "+-----+--------------------+------+\n",
      "only showing top 10 rows\n",
      "\n"
     ]
    }
   ],
   "source": [
    "tagId_tag_rating = userId_movieId_ratings.join(userId_tagId_movieId, on=[\"movieId\", \"userId\"])\\\n",
    "                                   .select([\"tagId\", \"rating\"])\\\n",
    "                                   .groupBy(\"tagId\").avg(\"rating\")\\\n",
    "                                   .join(genome_tags, on=\"tagId\")\\\n",
    "                                   .select([\"tagId\", \"tag\", col(\"avg(rating)\").alias(\"rating\")])\\\n",
    "                                   .sort(desc(\"rating\"))\n",
    "\n",
    "tagId_tag_rating.show(10)"
   ]
  },
  {
   "cell_type": "markdown",
   "metadata": {},
   "source": [
    "## 3) Most reliably rated genres"
   ]
  },
  {
   "cell_type": "code",
   "execution_count": 20,
   "metadata": {},
   "outputs": [
    {
     "data": {
      "text/plain": [
       "[(0, (50, 4935, 1.6, 'Usual Suspects, The (1995)', 'Crime|Mystery|Thriller'))]"
      ]
     },
     "execution_count": 20,
     "metadata": {},
     "output_type": "execute_result"
    }
   ],
   "source": [
    "genre_rating = userId_movieId_ratings.join(movies, on=\"movieId\")\n",
    "columns = genre_rating.columns\n",
    "genre_rating_rdd = genre_rating.rdd.zipWithUniqueId().map(lambda x: (x[1], tuple([*x[0]])))\n",
    "del genre_rating\n",
    "genre_rating_rdd.take(1)"
   ]
  },
  {
   "cell_type": "code",
   "execution_count": null,
   "metadata": {},
   "outputs": [
    {
     "data": {
      "text/plain": [
       "{'movieId': 50,\n",
       " 'userId': 4935,\n",
       " 'rating': 1.6,\n",
       " 'title': 'Usual Suspects, The (1995)',\n",
       " 'genres': 'Crime|Mystery|Thriller'}"
      ]
     },
     "execution_count": 21,
     "metadata": {},
     "output_type": "execute_result"
    }
   ],
   "source": [
    "dict(zip(columns, genre_rating_rdd.take(1)[0][1]))"
   ]
  },
  {
   "cell_type": "code",
   "execution_count": null,
   "metadata": {},
   "outputs": [
    {
     "name": "stdout",
     "output_type": "stream",
     "text": [
      "+---+--------+\n",
      "| Id|   genre|\n",
      "+---+--------+\n",
      "|  0|   Crime|\n",
      "|  0| Mystery|\n",
      "|  0|Thriller|\n",
      "|200|  Action|\n",
      "|200|   Crime|\n",
      "|200|Thriller|\n",
      "|400|  Comedy|\n",
      "|600|   Drama|\n",
      "|600|     War|\n",
      "|800|  Action|\n",
      "+---+--------+\n",
      "only showing top 10 rows\n",
      "\n"
     ]
    }
   ],
   "source": [
    "ratingId_genre = genre_rating_rdd.flatMapValues(lambda row: row[-1].split('|'))\\\n",
    "                                 .map(lambda row: Row(Id=row[0], genre=row[1]))\\\n",
    "                                 .toDF()\n",
    "ratingId_genre.show(10)"
   ]
  },
  {
   "cell_type": "code",
   "execution_count": null,
   "metadata": {
    "scrolled": false
   },
   "outputs": [],
   "source": [
    "genre_rating = genre_rating_rdd.map(lambda row: Row(Id=row[0], **dict(zip(columns, row[1]))))\\\n",
    "                               .toDF()\\\n",
    "                               .join(ratingId_genre, on=\"Id\")\\\n",
    "                               .select([\"genre\", \"rating\"])\\\n",
    "                               .groupBy(\"genre\").avg(\"rating\")\\\n",
    "                               .select([\"genre\", col(\"avg(rating)\").alias(\"rating\")])\\\n",
    "                               .sort(desc(\"rating\"))\n",
    "\n",
    "genre_rating.cache()\n",
    "genre_rating.show(20)"
   ]
  },
  {
   "cell_type": "markdown",
   "metadata": {},
   "source": [
    "<img src=\"misc/best_genre.jpg\">"
   ]
  },
  {
   "cell_type": "code",
   "execution_count": null,
   "metadata": {},
   "outputs": [],
   "source": []
  }
 ],
 "metadata": {
  "kernelspec": {
   "display_name": "Python 3",
   "language": "python",
   "name": "python3"
  },
  "language_info": {
   "codemirror_mode": {
    "name": "ipython",
    "version": 3
   },
   "file_extension": ".py",
   "mimetype": "text/x-python",
   "name": "python",
   "nbconvert_exporter": "python",
   "pygments_lexer": "ipython3",
   "version": "3.6.7"
  }
 },
 "nbformat": 4,
 "nbformat_minor": 2
}

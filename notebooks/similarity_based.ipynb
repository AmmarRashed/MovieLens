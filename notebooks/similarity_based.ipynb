{
 "cells": [
  {
   "cell_type": "code",
   "execution_count": 1,
   "metadata": {},
   "outputs": [],
   "source": [
    "import sys\n",
    "sys.path.append(\"../src\")"
   ]
  },
  {
   "cell_type": "code",
   "execution_count": 2,
   "metadata": {},
   "outputs": [],
   "source": [
    "from Utils import *"
   ]
  },
  {
   "cell_type": "code",
   "execution_count": 3,
   "metadata": {},
   "outputs": [],
   "source": [
    "sc = SparkContext.getOrCreate()\n",
    "ss = SparkSession(sc)"
   ]
  },
  {
   "cell_type": "code",
   "execution_count": 4,
   "metadata": {},
   "outputs": [],
   "source": [
    "def sample_data(df, movies_count=5000, users_count=1000):\n",
    "    return df.select(\"movieId\").dropDuplicates().limit(movies_count)\\\n",
    "            .join(df, on=\"movieId\").join(df.select(\"userId\").dropDuplicates().limit(users_count), on=\"userId\")\n",
    "            "
   ]
  },
  {
   "cell_type": "code",
   "execution_count": 5,
   "metadata": {},
   "outputs": [],
   "source": [
    "def get_user_recs_error(ui, similarities, recs_size=10):\n",
    "    user_recs = similarities.filter(similarities.ui == ui) \\\n",
    "        .join(ratings, similarities.uj == ratings.userId) \\\n",
    "        .select([col(\"ui\").alias(\"userId\"), \"movieId\", \"title\",\n",
    "                 \"genres\", col(\"reliable_rating\").alias(\"rating\"), \"sim\"])\n",
    "\n",
    "    user_recs = user_recs.withColumn(\"pred\", user_recs.rating * user_recs.sim) \\\n",
    "        .groupBy([\"userId\", \"movieId\", \"title\", \"genres\"]).avg(\"pred\") \\\n",
    "        .sort(desc(\"avg(pred)\")) \\\n",
    "        .select([\"userId\", \"movieId\", \"title\", \"genres\",\n",
    "                 col(\"avg(pred)\").alias(\"pred\")])\n",
    "\n",
    "    errors = user_recs.join(ratings, on=[\"userId\", \"movieId\"]) \\\n",
    "        .select([col(\"reliable_rating\").alias(\"rating\"), \"pred\"])\n",
    "    errors = errors.withColumn(\"error\", (errors.rating - errors.pred) ** 2)\n",
    "\n",
    "    error = errors.rdd.map(lambda x: x[\"error\"]).reduce(lambda x1, x2: x1 + x2)\n",
    "    return error, user_recs.limit(recs_size), errors.count()\n",
    "\n",
    "def get_recommendations(users, similarities, recs_size=10):\n",
    "    error = 0\n",
    "    recs = None\n",
    "    count = 0\n",
    "    for u in users:\n",
    "        print(\"Predicting for user: {0}\".format(u))\n",
    "        e, r, c = get_user_recs_error(u, similarities, recs_size)\n",
    "        recs = recs.union(r) if recs else r\n",
    "        error += e\n",
    "        count += c\n",
    "        print(\"MSE: \", round(e/c, 3))\n",
    "        print()\n",
    "    error /= count\n",
    "    return recs, error**0.5"
   ]
  },
  {
   "cell_type": "markdown",
   "metadata": {},
   "source": [
    "<img src=\"../misc/r.png\">"
   ]
  },
  {
   "cell_type": "code",
   "execution_count": 6,
   "metadata": {
    "scrolled": false
   },
   "outputs": [
    {
     "name": "stdout",
     "output_type": "stream",
     "text": [
      "Users: 1,000\n",
      "Movies: 3,306\n",
      "Ratings: 80,453\n",
      "+------+-------+--------+--------------------+--------------------+------+------------------+\n",
      "|userId|movieId|ratingId|               title|              genres|rating|   reliable_rating|\n",
      "+------+-------+--------+--------------------+--------------------+------+------------------+\n",
      "|  5936|    111|  887646|  Taxi Driver (1976)|Crime|Drama|Thriller|   4.5|3.7691303537482317|\n",
      "|  5936|    223|  887648|       Clerks (1994)|              Comedy|   4.0|3.3503380922206505|\n",
      "|  5936|    296|  887650| Pulp Fiction (1994)|Comedy|Crime|Dram...|   5.0| 4.187922615275813|\n",
      "|  5936|    471|  887655|Hudsucker Proxy, ...|              Comedy|   4.5|3.7691303537482317|\n",
      "|  5936|    858|  887660|Godfather, The (1...|         Crime|Drama|   4.0|3.3503380922206505|\n",
      "+------+-------+--------+--------------------+--------------------+------+------------------+\n",
      "only showing top 5 rows\n",
      "\n"
     ]
    }
   ],
   "source": [
    "ratings = ss.read\\\n",
    "            .format(\"csv\")\\\n",
    "            .option('header', 'true')\\\n",
    "            .load(os.path.join(\"../data\",\"userId_movieId_title_ratings.csv\"), inferSchema='true')\n",
    "    \n",
    "ratings = sample_data(ratings)\n",
    "ratings.persist()\n",
    "print(\"Users: {0:,}\".format(get_count(ratings,\"userId\")))\n",
    "print(\"Movies: {0:,}\".format(get_count(ratings,\"movieId\")))\n",
    "print(\"Ratings: {0:,}\".format(ratings.count()))\n",
    "ratings.show(5)"
   ]
  },
  {
   "cell_type": "markdown",
   "metadata": {},
   "source": [
    "### Pearson Correlation Coefficient"
   ]
  },
  {
   "cell_type": "code",
   "execution_count": 7,
   "metadata": {},
   "outputs": [
    {
     "name": "stdout",
     "output_type": "stream",
     "text": [
      "3,306 movies\n",
      "+-------+------------------+------------------+\n",
      "|movieId|           #rating|  #reliable_rating|\n",
      "+-------+------------------+------------------+\n",
      "|    471|3.7389380530973453|2.9379942895836697|\n",
      "|  31528|               3.3|2.9599100902263764|\n",
      "|   4900|               3.5| 3.074913963128231|\n",
      "|   1580| 3.502918287937743|2.8652828102817773|\n",
      "|  44022| 3.267543859649123|2.5368997352610396|\n",
      "+-------+------------------+------------------+\n",
      "only showing top 5 rows\n",
      "\n"
     ]
    }
   ],
   "source": [
    "avg_ratings_per_item = lambda item: ratings.select([item, \"rating\", \"reliable_rating\"])\\\n",
    "                                               .groupBy(item).avg()\\\n",
    "                                               .select(\n",
    "    [item, col(\"avg(rating)\").alias(\"#rating\"),col(\"avg(reliable_rating)\").alias(\"#reliable_rating\")])\n",
    "\n",
    "avg_ratings_per_item = avg_ratings_per_item(\"movieId\")\n",
    "print(\"{0:,} movies\".format(avg_ratings_per_item.count()))\n",
    "avg_ratings_per_item.show(5)"
   ]
  },
  {
   "cell_type": "code",
   "execution_count": 8,
   "metadata": {},
   "outputs": [],
   "source": [
    "avg_movie_ratings = sc.broadcast({r[\"movieId\"]: (r[\"#rating\"], r[\"#reliable_rating\"]) for r in avg_ratings_per_item.collect()})"
   ]
  },
  {
   "cell_type": "code",
   "execution_count": 9,
   "metadata": {},
   "outputs": [],
   "source": [
    "def pearson_sim_per_movie(rates, avg_rating):\n",
    "    \"\"\"\n",
    "    rates is a list [(ui, rating) for every user rating that movie]\n",
    "    \"\"\"\n",
    "    d = dict()\n",
    "    for (u1, r1), (u2, r2) in product(rates, rates):\n",
    "        if u1 == u2: continue\n",
    "        d[(u1, u2)] = ((r1 - avg_rating) * (r2-avg_rating), (r1 - avg_rating)**2, (r2 - avg_rating)**2)\n",
    "    return list(d.items())"
   ]
  },
  {
   "cell_type": "code",
   "execution_count": 10,
   "metadata": {
    "scrolled": true
   },
   "outputs": [
    {
     "name": "stdout",
     "output_type": "stream",
     "text": [
      "+---+-----+-----+\n",
      "|sim|   ui|   uj|\n",
      "+---+-----+-----+\n",
      "|1.0| 5936|55858|\n",
      "|1.0| 5936|29370|\n",
      "|1.0| 5936|88162|\n",
      "|1.0|22356|54838|\n",
      "|1.0|11571|93731|\n",
      "+---+-----+-----+\n",
      "only showing top 5 rows\n",
      "\n"
     ]
    }
   ],
   "source": [
    "pearson_similarities = ratings.rdd.map(lambda r: (r[\"movieId\"], (r[\"userId\"], r[\"reliable_rating\"])))\\\n",
    "                                    .groupByKey()\\\n",
    "                                    .map(lambda x: (x[0], pearson_sim_per_movie(x[1], avg_movie_ratings.value[x[0]][1])))\\\n",
    "                                    .flatMapValues(lambda x:x)\\\n",
    "                                    .map(lambda x:x[1])\\\n",
    "                                    .reduceByKey(lambda x1, x2: (x1[0]+x2[0], x1[1]+x2[1], x1[2]+x2[2]))\\\n",
    "                                    .map(lambda x: Row(ui=x[0][0], uj=x[0][1], sim=x[1][0]/(x[1][1]**0.5 * x[1][2]**0.5)))\\\n",
    "                                    .toDF()\\\n",
    "                                    .sort(desc(\"sim\"))\n",
    "pearson_similarities.write.mode('overwrite').csv(\"../data/pearson_similarities_similarities.csv\", header=True)\n",
    "pearson_similarities.show(5)"
   ]
  },
  {
   "cell_type": "code",
   "execution_count": 13,
   "metadata": {
    "scrolled": false
   },
   "outputs": [
    {
     "name": "stdout",
     "output_type": "stream",
     "text": [
      "Predicting for user: 4935\n",
      "MSE:  7.816\n",
      "\n",
      "Predicting for user: 7880\n",
      "MSE:  8.443\n",
      "\n",
      "Predicting for user: 7993\n",
      "MSE:  7.916\n",
      "\n",
      "Predicting for user: 10817\n",
      "MSE:  7.065\n",
      "\n",
      "Predicting for user: 13285\n",
      "MSE:  8.268\n",
      "\n",
      "Predicting for user: 23364\n",
      "MSE:  9.14\n",
      "\n",
      "Predicting for user: 23571\n",
      "MSE:  8.604\n",
      "\n",
      "Predicting for user: 25591\n",
      "MSE:  9.116\n",
      "\n",
      "Predicting for user: 34234\n",
      "MSE:  10.56\n",
      "\n",
      "Predicting for user: 34239\n",
      "MSE:  12.334\n",
      "\n",
      "RMSE:  2.929756791890806\n",
      "+------+-------+--------------------+--------------------+------------------+\n",
      "|userId|movieId|               title|              genres|              pred|\n",
      "+------+-------+--------------------+--------------------+------------------+\n",
      "|  4935|   8025|Thief, The (Vor) ...|               Drama|4.4509764577351705|\n",
      "|  4935|  46083|Drawing Restraint...|             Fantasy| 3.912137394900763|\n",
      "|  4935| 128600|John Doe: Vigilan...|      Crime|Thriller|3.1524388468780846|\n",
      "|  4935|  73135|Good Life, The (2...|        Comedy|Drama| 3.129709915920611|\n",
      "|  4935|  96490|Possession, The (...|     Horror|Thriller|  3.06078027811814|\n",
      "|  4935|  81312|   Borderland (2007)|Crime|Horror|Thri...|  3.06078027811814|\n",
      "|  4935|   4538|Salome's Last Dan...|        Comedy|Drama|3.0291924597390794|\n",
      "|  4935|  90243|Three Outlaw Samu...|        Action|Drama| 2.990107523759211|\n",
      "|  4935|  89732|Bulldog Drummond ...|Adventure|Mystery...| 2.990107523759211|\n",
      "|  4935|    325|National Lampoon'...|              Comedy| 2.880713245476291|\n",
      "|  7880|  91560|Funny Man, A (Dir...|               Drama|2.4579469655885227|\n",
      "|  7880|  76680|      Camille (2007)|Comedy|Drama|Romance| 2.146039455374015|\n",
      "|  7880|  26481|First Name: Carme...| Crime|Drama|Romance| 2.123824478057619|\n",
      "|  7880| 101508|King Is Dead!, Th...|Comedy|Drama|Thri...|2.0102372203386936|\n",
      "|  7880|   5592|Monster in the Cl...|       Comedy|Horror| 1.974966115641752|\n",
      "|  7880|  84302|And Now My Love (...|       Drama|Romance|  1.86153566423812|\n",
      "|  7880|  80033|President's Man, ...|Action|Adventure|...|1.7475512425664477|\n",
      "|  7880|  47615|Adventures of Don...|   Adventure|Romance| 1.721951550820768|\n",
      "|  7880|   8025|Thief, The (Vor) ...|               Drama| 1.620656598452559|\n",
      "|  7880|   6056|        Chaos (2001)|  Comedy|Crime|Drama|1.5996347572227063|\n",
      "+------+-------+--------------------+--------------------+------------------+\n",
      "only showing top 20 rows\n",
      "\n"
     ]
    }
   ],
   "source": [
    "test_users = ratings.select([\"userId\"]).dropDuplicates().rdd.map(lambda r: r[0]).collect()[:10]\n",
    "\n",
    "pearson_recs, error = get_recommendations(test_users, pearson_similarities, recs_size=10)\n",
    "print(\"RMSE: \", error)\n",
    "pearson_recs.show()\n",
    "del pearson_similarities"
   ]
  },
  {
   "cell_type": "markdown",
   "metadata": {},
   "source": [
    "### Bipartite Graph Reinforcement (BGR) similarity\n",
    "- What is the probability that $u_1$ would give similar rating to *at least* one movie as $u_2$\n",
    "\n",
    "<img src=\"../misc/bgrs.png\">\n",
    "\n",
    "$$ \\textbf{BGR}(u_i, u_j)=p(u_j|u_i)^{\\frac{1}{M_{u_i,u_j}}}$$\n",
    "<br>\n",
    "$$U_m \\text{ is the set of users who rated the movie }m$$\n",
    "$$M_u \\text{ is the set of movies rated by user } u$$\n",
    "$$R(u, m) = \\text{ Rating by user } u \\text{of movie } m$$\n",
    "\n",
    "$$p(m|u)=\\frac{R(u, m)}{\\sum_{m_i \\in M_u}{R(u, m_i)}}$$\n",
    "\n",
    "<br>\n",
    "\n",
    "$$p(u|m)=\\frac{R(u, m)}{\\sum_{u_i \\in U_m}{R(u_i, m)}}$$\n",
    "\n",
    "<br>\n",
    "\n",
    "$$p(u_j|u_i) = 1-\\prod_{\\forall u_i, u_j \\in users, \\forall m \\in movies} (1-\n",
    "p(m|u_i)p(u_j|m))$$\n",
    "$M_{u_i, u_j}$ is the number of items rated by both $u_i$ and $u_j$\n"
   ]
  },
  {
   "cell_type": "code",
   "execution_count": 14,
   "metadata": {
    "scrolled": false
   },
   "outputs": [
    {
     "name": "stdout",
     "output_type": "stream",
     "text": [
      "3,306 movies\n",
      "+-------+-------+------------------+\n",
      "|movieId|#rating|  #reliable_rating|\n",
      "+-------+-------+------------------+\n",
      "|    471|  422.5| 331.9933547229547|\n",
      "|  31528|   16.5|14.799550451131882|\n",
      "|   4900|   14.0|12.299655852512924|\n",
      "|   1580| 1800.5|1472.7553644848335|\n",
      "|  44022|  372.5| 289.2065698197585|\n",
      "|   8638|  431.5|334.65899107883394|\n",
      "|  68135|  151.0|125.01652238579794|\n",
      "|   1645|  712.0|  571.114497435239|\n",
      "|   6620|  328.0| 259.6850387219688|\n",
      "|   1591|  230.5|191.61377612675983|\n",
      "|   3794|   33.0|25.040078355365807|\n",
      "|   4519|  145.5| 112.5548165024736|\n",
      "|   5300|   42.0| 36.17397618794674|\n",
      "|  54190|  199.0|161.35774790708342|\n",
      "|  36525|  135.0|103.88202769736819|\n",
      "|   3175|  649.5| 520.3550331494652|\n",
      "|   1088|  486.5| 386.2016813547274|\n",
      "|  96488|  110.0| 92.45895907476827|\n",
      "|   5803|   57.5|37.402608507388564|\n",
      "|   3997|   89.0| 77.08222406229666|\n",
      "+-------+-------+------------------+\n",
      "only showing top 20 rows\n",
      "\n"
     ]
    }
   ],
   "source": [
    "sum_ratings_per_item = lambda item: ratings.select([item, \"rating\", \"reliable_rating\"])\\\n",
    "                                               .groupBy(item).sum()\\\n",
    "                                               .select(\n",
    "    [item, col(\"sum(rating)\").alias(\"#rating\"),col(\"sum(reliable_rating)\").alias(\"#reliable_rating\")])\n",
    "\n",
    "sum_ratings_per_movie = sum_ratings_per_item(\"movieId\")\n",
    "print(\"{0:,} movies\".format(sum_ratings_per_movie.count()))\n",
    "sum_ratings_per_movie.show()"
   ]
  },
  {
   "cell_type": "code",
   "execution_count": 15,
   "metadata": {},
   "outputs": [
    {
     "name": "stdout",
     "output_type": "stream",
     "text": [
      "1,000 users\n",
      "+------+-------+------------------+\n",
      "|userId|#rating|  #reliable_rating|\n",
      "+------+-------+------------------+\n",
      "|  4935|   69.5|  37.7193094337887|\n",
      "|  7880|  425.5| 354.4145730346695|\n",
      "|  7993|  149.5|126.47313947905427|\n",
      "| 10817|  150.0|105.73242521490101|\n",
      "| 13285| 1153.5| 900.4192426933348|\n",
      "| 23364|  114.0| 88.29159878493387|\n",
      "| 23571|  459.0| 445.9161209602262|\n",
      "| 25591|  396.0| 338.5322793187616|\n",
      "| 34234|  138.5| 93.45434951056633|\n",
      "| 34239|   88.0| 87.66553437581042|\n",
      "| 36224|  169.0|124.08681376664087|\n",
      "| 36538|   86.5| 85.04890707290085|\n",
      "| 40335|    7.5| 7.476394285176255|\n",
      "| 45011|  229.0|223.92158366716382|\n",
      "| 65867|   27.5| 17.90408484700385|\n",
      "| 73683|  137.0|102.73435703062788|\n",
      "| 83693|   34.0| 32.41705014329398|\n",
      "| 97092|   66.5| 64.38088050381117|\n",
      "|101055|  150.0|135.16712449352124|\n",
      "|102594|   75.0| 50.03185657677887|\n",
      "+------+-------+------------------+\n",
      "only showing top 20 rows\n",
      "\n"
     ]
    }
   ],
   "source": [
    "sum_ratings_per_user = sum_ratings_per_item(\"userId\")\n",
    "print(\"{0:,} users\".format(sum_ratings_per_user.count()))\n",
    "sum_ratings_per_user.show()"
   ]
  },
  {
   "cell_type": "code",
   "execution_count": 16,
   "metadata": {},
   "outputs": [],
   "source": [
    "def users_bgr_similarities_per_movie(probs):\n",
    "    \"\"\"\n",
    "    probs is an iterable [( p_m_u, p_u_m, userId)] where i is a movie m_i\n",
    "    \"\"\"\n",
    "#     \"\"\"\n",
    "#     probs is an iterable [( p_i_u_r, p_i_u_relr, p_u_i_r, p_u_i_relr, userId)] where i is a movie m_i\n",
    "#     \"\"\"\n",
    "    d = dict()  # {(ui, uj): (1-(p(i_ui) * p(uj_i)), repeat for 'reliable' probs)}\n",
    "    for i, j in product(probs, probs):\n",
    "        ui, uj = i[-1], j[-1]\n",
    "        if ui == uj: continue\n",
    "#         p_e_ui, p_e_ui_rel = i[0], i[1]\n",
    "#         p_uj_e, p_uj_e_rel = j[2], j[3]\n",
    "        p_e_ui = i[0]\n",
    "        p_uj_e = j[1]\n",
    "#         d[(ui, uj)] = (1 - p_e_ui*p_uj_e, 1 - p_e_ui_rel*p_uj_e_rel)\n",
    "        d[(uj, ui)] = (1-p_e_ui*p_uj_e, 1)\n",
    "    return list(d.items())"
   ]
  },
  {
   "cell_type": "code",
   "execution_count": 17,
   "metadata": {},
   "outputs": [],
   "source": [
    "u_ratings = sc.broadcast({r[\"userId\"]: (r[\"#rating\"], r[\"#reliable_rating\"]) for r in sum_ratings_per_user.collect()})\n",
    "i_ratings = sc.broadcast({r[\"movieId\"]: (r[\"#rating\"], r[\"#reliable_rating\"]) for r in sum_ratings_per_movie.collect()})"
   ]
  },
  {
   "cell_type": "code",
   "execution_count": 18,
   "metadata": {},
   "outputs": [
    {
     "name": "stdout",
     "output_type": "stream",
     "text": [
      "+-------+--------------------+--------------------+------+\n",
      "|movieId|               p_m_u|               p_u_m|userId|\n",
      "+-------+--------------------+--------------------+------+\n",
      "|    111|0.041095890410958895|0.003974649184938958|  5936|\n",
      "|    223|  0.0365296803652968|0.004336258502422931|  5936|\n",
      "|    296|0.045662100456620995|0.001814151978670191|  5936|\n",
      "|    471|0.041095890410958895|0.011353029511369394|  5936|\n",
      "|    858|  0.0365296803652968|0.001902992345807...|  5936|\n",
      "+-------+--------------------+--------------------+------+\n",
      "only showing top 5 rows\n",
      "\n"
     ]
    }
   ],
   "source": [
    "# probs = ratings.select([\"userId\", \"movieId\", \"rating\", \"reliable_rating\"]).rdd\\\n",
    "probs = ratings.select([\"userId\", \"movieId\", \"reliable_rating\"]).rdd\\\n",
    "                .map(lambda x: Row(userId=x[\"userId\"], movieId=x[\"movieId\"],\n",
    "                                   \n",
    "#                         p_u_i_r=x[\"rating\"]/i_ratings.value[x[\"movieId\"]][0],\n",
    "                        p_u_m=x[\"reliable_rating\"]/i_ratings.value[x[\"movieId\"]][1],\n",
    "                                   \n",
    "#                         p_i_u_r=x[\"rating\"]/u_ratings.value[x[\"userId\"]][0],\n",
    "                        p_m_u=x[\"reliable_rating\"]/u_ratings.value[x[\"userId\"]][1]))\\\n",
    "                .toDF()\n",
    "probs.show(5)"
   ]
  },
  {
   "cell_type": "code",
   "execution_count": 19,
   "metadata": {},
   "outputs": [],
   "source": [
    "del sum_ratings_per_user, sum_ratings_per_movie, u_ratings, i_ratings"
   ]
  },
  {
   "cell_type": "code",
   "execution_count": 20,
   "metadata": {
    "scrolled": false
   },
   "outputs": [
    {
     "name": "stdout",
     "output_type": "stream",
     "text": [
      "+------------------+------+------+\n",
      "|               sim|    ui|    uj|\n",
      "+------------------+------+------+\n",
      "|0.9918097703615764| 54305|121535|\n",
      "|0.9895498653874586|121535| 54305|\n",
      "|0.9890767459733864| 64843|121535|\n",
      "|0.9888496124917898|117144|121535|\n",
      "| 0.987418518936548| 23523|121535|\n",
      "+------------------+------+------+\n",
      "only showing top 5 rows\n",
      "\n"
     ]
    }
   ],
   "source": [
    "# users_similar_to_ui = probs.rdd.map(lambda r: (r[\"movieId\"],\n",
    "#                          (r[\"p_i_u_r\"], r[\"p_i_u_relr\"], r[\"p_u_i_r\"], r[\"p_u_i_relr\"], r[\"userId\"])))\\\n",
    "bgr_similarities = probs.rdd.map(lambda r: (r[\"movieId\"],\n",
    "                         (r[\"p_m_u\"], r[\"p_u_m\"], r[\"userId\"])))\\\n",
    "        .groupByKey()\\\n",
    "        .mapValues(lambda x: users_bgr_similarities_per_movie(x))\\\n",
    "        .flatMapValues(lambda x: x)\\\n",
    "        .map(lambda x: x[1])\\\n",
    "        .reduceByKey(lambda x1, x2: (x1[0] * x2[0], x1[1] + x2[1]))\\\n",
    "        .map(lambda r: Row(ui=r[0][1], uj=r[0][0], sim=(1-r[1][0])**(1./r[1][1])))\\\n",
    "        .toDF()\\\n",
    "        .sort(desc(\"sim\"))\\\n",
    "\n",
    "#         .reduceByKey(lambda x1, x2: (x1[0] * x2[0], x1[1]*x2[1]))\\\n",
    "#         .map(lambda r: Row(ui=r[0][0], uj=r[0][1], sim=1-r[1][0], sim_rel=1-r[1][1]))\\\n",
    "bgr_similarities.write.mode('overwrite').csv(\"../data/bgr_similarities.csv\", header=True)\n",
    "bgr_similarities.show(5)\n"
   ]
  },
  {
   "cell_type": "code",
   "execution_count": 21,
   "metadata": {},
   "outputs": [
    {
     "name": "stdout",
     "output_type": "stream",
     "text": [
      "+------+-------+--------------------+------------------+------------------+-------------------+\n",
      "|userId|movieId|               title|            rating|              pred|              error|\n",
      "+------+-------+--------------------+------------------+------------------+-------------------+\n",
      "| 48838|   8015|Phantom Tollbooth...|3.5073220312181785|2.8322763346526094| 0.4556866924516944|\n",
      "| 48838|   7122|King of Hearts (1...|3.1176195833050477|2.7370062111190854| 0.1448665390867699|\n",
      "| 48838|   9018| Control Room (2004)|  3.89702447913131|2.4889382171885353| 1.9827069210719759|\n",
      "| 48838|   1207|To Kill a Mocking...|  3.89702447913131|2.4844017158974046|  1.995503071206594|\n",
      "| 48838|   2090|Rescuers, The (1977)|2.3382146874787857|2.4605075387863944|0.01495554148094489|\n",
      "+------+-------+--------------------+------------------+------------------+-------------------+\n",
      "only showing top 5 rows\n",
      "\n"
     ]
    }
   ],
   "source": [
    "ui = 48838\n",
    "user_recs = bgr_similarities.filter(bgr_similarities.ui == ui)\\\n",
    "                                        .join(ratings, bgr_similarities.uj==ratings.userId)\\\n",
    "                                        .select([col(\"ui\").alias(\"userId\"), \"movieId\", \"title\",\n",
    "                                                 col(\"reliable_rating\").alias(\"rating\"), \"sim\"])\n",
    "\n",
    "user_recs = user_recs.withColumn(\"pred\", user_recs.rating*user_recs.sim)\\\n",
    "                                        .groupBy([\"userId\", \"movieId\"]).avg(\"pred\")\\\n",
    "                                        .select([\"userId\", \"movieId\", col(\"avg(pred)\").alias(\"pred\")])\\\n",
    "\n",
    "\n",
    "user_recs = user_recs.join(ratings, on=[\"userId\", \"movieId\"])\\\n",
    "                                        .select([\"userId\", \"movieId\", \"title\",\n",
    "                                                 col(\"reliable_rating\").alias(\"rating\"), \"pred\"])\n",
    "user_recs = user_recs.withColumn(\"error\", (user_recs.rating-user_recs.pred)**2).sort(desc(\"pred\"))\n",
    "user_recs.show(5)"
   ]
  },
  {
   "cell_type": "code",
   "execution_count": 22,
   "metadata": {
    "scrolled": false
   },
   "outputs": [
    {
     "name": "stdout",
     "output_type": "stream",
     "text": [
      "Predicting for user: 4935\n",
      "MSE:  0.916\n",
      "\n",
      "Predicting for user: 7880\n",
      "MSE:  1.152\n",
      "\n",
      "Predicting for user: 7993\n",
      "MSE:  2.809\n",
      "\n",
      "Predicting for user: 10817\n",
      "MSE:  1.471\n",
      "\n",
      "Predicting for user: 13285\n",
      "MSE:  0.414\n",
      "\n",
      "Predicting for user: 23364\n",
      "MSE:  1.997\n",
      "\n",
      "Predicting for user: 23571\n",
      "MSE:  1.269\n",
      "\n",
      "Predicting for user: 25591\n",
      "MSE:  1.11\n",
      "\n",
      "Predicting for user: 34234\n",
      "MSE:  2.102\n",
      "\n",
      "Predicting for user: 34239\n",
      "MSE:  6.288\n",
      "\n",
      "RMSE:  1.0708719205764197\n",
      "+------+-------+--------------------+--------------------+------------------+\n",
      "|userId|movieId|               title|              genres|              pred|\n",
      "+------+-------+--------------------+--------------------+------------------+\n",
      "|  4935| 100617|Patton Oswalt: No...|              Comedy|3.4765902485111884|\n",
      "|  4935| 120815|Patton Oswalt: We...|              Comedy|3.4765902485111884|\n",
      "|  4935| 101862|50 Children: The ...|         Documentary| 3.304758326300755|\n",
      "|  4935| 102951|All In: The Poker...|         Documentary| 3.196502822425268|\n",
      "|  4935| 127096|Project Almanac (...|     Sci-Fi|Thriller| 3.196502822425268|\n",
      "|  4935|  93572|        Lucky (2011)|Comedy|Crime|Romance|3.1289312236600697|\n",
      "|  4935|  79163| Swedish Auto (2006)|       Drama|Romance|3.1289312236600697|\n",
      "|  4935| 101597|Bag of Hammers, A...|        Comedy|Drama|3.1289312236600697|\n",
      "|  4935|  86368|Confessions of a ...|               Drama|2.9742824936706795|\n",
      "|  4935|  79830|Captain Conan (Ca...|           Drama|War|2.9742824936706795|\n",
      "|  7880| 120815|Patton Oswalt: We...|              Comedy| 4.607420108276013|\n",
      "|  7880| 100617|Patton Oswalt: No...|              Comedy| 4.607420108276013|\n",
      "|  7880|    406| Federal Hill (1994)|               Drama| 4.410666298659037|\n",
      "|  7880| 101862|50 Children: The ...|         Documentary|4.2666036733567045|\n",
      "|  7880|  93572|        Lucky (2011)|Comedy|Crime|Romance|4.1466780974484125|\n",
      "|  7880| 101597|Bag of Hammers, A...|        Comedy|Drama|4.1466780974484125|\n",
      "|  7880|  79163| Swedish Auto (2006)|       Drama|Romance|4.1466780974484125|\n",
      "|  7880|  96098|Louise-Michel (2008)|              Comedy| 4.056875974672664|\n",
      "|  7880|  79830|Captain Conan (Ca...|           Drama|War| 3.839943306021034|\n",
      "|  7880|  86368|Confessions of a ...|               Drama| 3.839943306021034|\n",
      "+------+-------+--------------------+--------------------+------------------+\n",
      "only showing top 20 rows\n",
      "\n"
     ]
    }
   ],
   "source": [
    "bgrrecs, error = get_recommendations(test_users, bgr_similarities, recs_size=10)\n",
    "print(\"RMSE: \", error)\n",
    "bgrrecs.show()\n",
    "del bgr_similarities"
   ]
  },
  {
   "cell_type": "code",
   "execution_count": 23,
   "metadata": {},
   "outputs": [],
   "source": [
    "def users_W_similarities_per_movie(rates, max_rating=5.):\n",
    "    \"\"\"\n",
    "    rates is a list [(ui, rating) for every user rating that movie]\n",
    "    \"\"\"\n",
    "    d = dict()\n",
    "    for (u1, r1), (u2, r2) in product(rates, rates):\n",
    "        if u1 == u2: continue\n",
    "        d[(u1, u2)] = (abs(r1 - r2), max_rating)\n",
    "    return list(d.items())"
   ]
  },
  {
   "cell_type": "markdown",
   "metadata": {},
   "source": [
    "$$W^{sim}(u, v) = 1-\\sum_{m\\in {M_u \\cap M_v}}{\\frac{{abs(r_u(m) - r_v(m))}}{R}}$$\n",
    "\n",
    "$R$ is the maximum rating (i.e 5.0)"
   ]
  },
  {
   "cell_type": "code",
   "execution_count": 24,
   "metadata": {
    "scrolled": false
   },
   "outputs": [
    {
     "name": "stdout",
     "output_type": "stream",
     "text": [
      "+------------------+------+------+\n",
      "|               sim|    ui|    uj|\n",
      "+------------------+------+------+\n",
      "|0.9999943499883635|104397| 24994|\n",
      "|0.9999943499883635| 24994|104397|\n",
      "|0.9999937846416633| 12373| 40335|\n",
      "|0.9999937846416633| 40335| 12373|\n",
      "|0.9999927547972378| 75808|  6108|\n",
      "+------------------+------+------+\n",
      "only showing top 5 rows\n",
      "\n"
     ]
    }
   ],
   "source": [
    "weighted_similarities = ratings.rdd.map(lambda r: (r[\"movieId\"], (r[\"userId\"], r[\"reliable_rating\"])))\\\n",
    "                                    .groupByKey()\\\n",
    "                                    .mapValues(lambda x: users_W_similarities_per_movie(x))\\\n",
    "                                    .flatMapValues(lambda x:x)\\\n",
    "                                    .map(lambda x:x[1])\\\n",
    "                                    .reduceByKey(lambda x1, x2: (x1[0]+x2[0], x1[1]+x2[1]))\\\n",
    "                                    .map(lambda x: Row(ui=x[0][0], uj=x[0][1], sim=1-float(x[1][0])/x[1][1]))\\\n",
    "                                    .toDF()\\\n",
    "                                    .sort(desc(\"sim\"))\n",
    "weighted_similarities.write.mode('overwrite').csv(\"../data/weighted_similarities.csv\", header=True)\n",
    "weighted_similarities.show(5)"
   ]
  },
  {
   "cell_type": "code",
   "execution_count": 25,
   "metadata": {
    "scrolled": false
   },
   "outputs": [
    {
     "name": "stdout",
     "output_type": "stream",
     "text": [
      "Predicting for user: 4935\n",
      "MSE:  0.337\n",
      "\n",
      "Predicting for user: 7880\n",
      "MSE:  1.011\n",
      "\n",
      "Predicting for user: 7993\n",
      "MSE:  1.157\n",
      "\n",
      "Predicting for user: 10817\n",
      "MSE:  0.402\n",
      "\n",
      "Predicting for user: 13285\n",
      "MSE:  0.481\n",
      "\n",
      "Predicting for user: 23364\n",
      "MSE:  0.734\n",
      "\n",
      "Predicting for user: 23571\n",
      "MSE:  1.432\n",
      "\n",
      "Predicting for user: 25591\n",
      "MSE:  0.952\n",
      "\n",
      "Predicting for user: 34234\n",
      "MSE:  0.334\n",
      "\n",
      "Predicting for user: 34239\n",
      "MSE:  3.659\n",
      "\n",
      "RMSE:  0.9341897029596626\n",
      "+------+-------+--------------------+--------------------+------------------+\n",
      "|userId|movieId|               title|              genres|              pred|\n",
      "+------+-------+--------------------+--------------------+------------------+\n",
      "|  4935|   8025|Thief, The (Vor) ...|               Drama| 4.225135465870284|\n",
      "|  4935| 107627|Physician, The (2...|     Adventure|Drama|3.6975812898193454|\n",
      "|  4935|  46083|Drawing Restraint...|             Fantasy| 3.691640469826862|\n",
      "|  4935| 118338|Hard to Be a God ...|              Sci-Fi|3.6095736372850182|\n",
      "|  4935| 101862|50 Children: The ...|         Documentary| 3.480798181779134|\n",
      "|  4935|   3222|       Carmen (1984)|               Drama|3.3510207421783083|\n",
      "|  4935|  79830|Captain Conan (Ca...|           Drama|War| 3.132718363601221|\n",
      "|  4935|  86368|Confessions of a ...|               Drama| 3.132718363601221|\n",
      "|  4935|    406| Federal Hill (1994)|               Drama|3.1290963445501334|\n",
      "|  4935|   4538|Salome's Last Dan...|        Comedy|Drama|3.0521933412256725|\n",
      "|  7880|   7935|Face to Face (Ans...|Drama|Fantasy|Hor...|  4.10538067586451|\n",
      "|  7880|    406| Federal Hill (1994)|               Drama| 4.066807909170672|\n",
      "|  7880| 107627|Physician, The (2...|     Adventure|Drama|  3.95816353247729|\n",
      "|  7880|  71433|Black God, White ...|Adventure|Crime|D...|3.9527077673170097|\n",
      "|  7880| 100617|Patton Oswalt: No...|              Comedy| 3.925116155740657|\n",
      "|  7880| 120815|Patton Oswalt: We...|              Comedy| 3.925116155740657|\n",
      "|  7880|   8025|Thief, The (Vor) ...|               Drama|3.6944433408860546|\n",
      "|  7880| 117606|      Divorce (1945)|               Drama| 3.690033890212519|\n",
      "|  7880| 113947|Lady of Chance, A...|Comedy|Drama|Romance| 3.690033890212519|\n",
      "|  7880|  96098|Louise-Michel (2008)|              Comedy| 3.683862423340611|\n",
      "+------+-------+--------------------+--------------------+------------------+\n",
      "only showing top 20 rows\n",
      "\n"
     ]
    }
   ],
   "source": [
    "recs, error = get_recommendations(test_users, weighted_similarities, recs_size=10)\n",
    "print(\"RMSE: \", error)\n",
    "recs = recs.cache()\n",
    "recs.show()\n",
    "del weighted_similarities"
   ]
  },
  {
   "cell_type": "markdown",
   "metadata": {},
   "source": [
    "### Notice that RMSE is not suitable for evaluating this approach, because predicted ratings are scaled by users similarities, which are typically very small. What matters is the rank of the prediction."
   ]
  },
  {
   "cell_type": "code",
   "execution_count": 26,
   "metadata": {},
   "outputs": [],
   "source": [
    "u1, u2 = recs.select([\"userId\"]).dropDuplicates().rdd.collect()[:2]\n",
    "u1, u2 = u1[0], u2[0]"
   ]
  },
  {
   "cell_type": "code",
   "execution_count": 27,
   "metadata": {},
   "outputs": [
    {
     "name": "stdout",
     "output_type": "stream",
     "text": [
      "+------+-------+--------+--------------------+--------------------+------+------------------+\n",
      "|userId|movieId|ratingId|               title|              genres|rating|   reliable_rating|\n",
      "+------+-------+--------+--------------------+--------------------+------+------------------+\n",
      "|  4935|   4973|  738692|Amelie (Fabuleux ...|      Comedy|Romance|   5.0|2.7136193837258067|\n",
      "|  4935|   2791|  738683|    Airplane! (1980)|              Comedy|   5.0|2.7136193837258067|\n",
      "|  4935|   2502|  738678| Office Space (1999)|        Comedy|Crime|   5.0|2.7136193837258067|\n",
      "|  4935|   1288|  738661|This Is Spinal Ta...|              Comedy|   4.5| 2.442257445353226|\n",
      "|  4935|   8464|  738705|Super Size Me (2004)|Comedy|Documentar...|   4.5| 2.442257445353226|\n",
      "|  4935|  93855|  738737|God Bless America...|        Comedy|Drama|   4.0|2.1708955069806453|\n",
      "|  4935|   3421|  738684| Animal House (1978)|              Comedy|   4.0|2.1708955069806453|\n",
      "|  4935|   1274|  738660|        Akira (1988)|Action|Adventure|...|   3.5|1.8995335686080645|\n",
      "|  4935|  58559|  738716|Dark Knight, The ...|Action|Crime|Dram...|   3.5|1.8995335686080645|\n",
      "|  4935|  94959|  738739|Moonrise Kingdom ...|Comedy|Drama|Romance|   3.5|1.8995335686080645|\n",
      "|  4935|  60072|  738717|       Wanted (2008)|     Action|Thriller|   3.5|1.8995335686080645|\n",
      "|  4935|   1884|  738666|Fear and Loathing...|Adventure|Comedy|...|   3.0|1.6281716302354838|\n",
      "|  4935|   1235|  738658|Harold and Maude ...|Comedy|Drama|Romance|   2.5|1.3568096918629033|\n",
      "|  4935|   1175|  738656| Delicatessen (1991)|Comedy|Drama|Romance|   2.5|1.3568096918629033|\n",
      "|  4935|   4144|  738690|In the Mood For L...|       Drama|Romance|   2.5|1.3568096918629033|\n",
      "|  4935|   6552|  738699|Dirty Pretty Thin...|Crime|Drama|Thriller|   2.5|1.3568096918629033|\n",
      "|  4935|  81083|  738720|       Kaboom (2010)|       Comedy|Sci-Fi|   2.5|1.3568096918629033|\n",
      "|  4935|   2313|  738675|Elephant Man, The...|               Drama|   2.0|1.0854477534903226|\n",
      "|  4935|  31309|  738714|Rocco and His Bro...|         Crime|Drama|   2.0|1.0854477534903226|\n",
      "|  4935|  91500|  738733|Hunger Games, The...|Action|Adventure|...|   2.0|1.0854477534903226|\n",
      "+------+-------+--------+--------------------+--------------------+------+------------------+\n",
      "only showing top 20 rows\n",
      "\n"
     ]
    }
   ],
   "source": [
    "ratings.filter(ratings.userId==u1).sort(desc(\"reliable_rating\")).show()"
   ]
  },
  {
   "cell_type": "code",
   "execution_count": 28,
   "metadata": {},
   "outputs": [
    {
     "name": "stdout",
     "output_type": "stream",
     "text": [
      "+------+-------+----------+--------------------+--------------------+------+-----------------+\n",
      "|userId|movieId|  ratingId|               title|              genres|rating|  reliable_rating|\n",
      "+------+-------+----------+--------------------+--------------------+------+-----------------+\n",
      "| 23571|    296|8590793923| Pulp Fiction (1994)|Comedy|Crime|Dram...|   5.0|4.857474084534058|\n",
      "| 23571|   1466|8590794051|Donnie Brasco (1997)|         Crime|Drama|   4.5|4.371726676080652|\n",
      "| 23571|   2231|8590794131|     Rounders (1998)|               Drama|   4.5|4.371726676080652|\n",
      "| 23571|    111|8590793897|  Taxi Driver (1976)|Crime|Drama|Thriller|   4.5|4.371726676080652|\n",
      "| 23571|  49530|8590794497|Blood Diamond (2006)|Action|Adventure|...|   4.5|4.371726676080652|\n",
      "| 23571|    593|8590793966|Silence of the La...|Crime|Horror|Thri...|   4.5|4.371726676080652|\n",
      "| 23571|  86377|8590794602|Louis C.K.: Shame...|              Comedy|   4.5|4.371726676080652|\n",
      "| 23571|   1265|8590794033|Groundhog Day (1993)|Comedy|Fantasy|Ro...|   4.5|4.371726676080652|\n",
      "| 23571|   1961|8590794107|     Rain Man (1988)|               Drama|   4.0|3.885979267627246|\n",
      "| 23571|    597|8590793967| Pretty Woman (1990)|      Comedy|Romance|   4.0|3.885979267627246|\n",
      "| 23571|    858|8590793986|Godfather, The (1...|         Crime|Drama|   4.0|3.885979267627246|\n",
      "| 23571|     81|8590793891|Things to Do in D...| Crime|Drama|Romance|   4.0|3.885979267627246|\n",
      "| 23571|    223|8590793909|       Clerks (1994)|              Comedy|   4.0|3.885979267627246|\n",
      "| 23571|   2329|8590794139|American History ...|         Crime|Drama|   4.0|3.885979267627246|\n",
      "| 23571|     47|8590793884|Seven (a.k.a. Se7...|    Mystery|Thriller|   4.0|3.885979267627246|\n",
      "| 23571|   2542|8590794165|Lock, Stock & Two...|Comedy|Crime|Thri...|   4.0|3.885979267627246|\n",
      "| 23571|   1721|8590794081|      Titanic (1997)|       Drama|Romance|   4.0|3.885979267627246|\n",
      "| 23571|   1206|8590794013|Clockwork Orange,...|Crime|Drama|Sci-F...|   4.0|3.885979267627246|\n",
      "| 23571|   2502|8590794161| Office Space (1999)|        Comedy|Crime|   4.0|3.885979267627246|\n",
      "| 23571|   3105|8590794218|   Awakenings (1990)|       Drama|Mystery|   4.0|3.885979267627246|\n",
      "+------+-------+----------+--------------------+--------------------+------+-----------------+\n",
      "only showing top 20 rows\n",
      "\n"
     ]
    }
   ],
   "source": [
    "ratings.filter(ratings.userId==u2).sort(desc(\"reliable_rating\")).show()"
   ]
  }
 ],
 "metadata": {
  "kernelspec": {
   "display_name": "Python 3",
   "language": "python",
   "name": "python3"
  },
  "language_info": {
   "codemirror_mode": {
    "name": "ipython",
    "version": 3
   },
   "file_extension": ".py",
   "mimetype": "text/x-python",
   "name": "python",
   "nbconvert_exporter": "python",
   "pygments_lexer": "ipython3",
   "version": "3.6.7"
  }
 },
 "nbformat": 4,
 "nbformat_minor": 1
}

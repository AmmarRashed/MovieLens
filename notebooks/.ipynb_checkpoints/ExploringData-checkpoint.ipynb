{
 "cells": [
  {
   "cell_type": "code",
   "execution_count": 1,
   "metadata": {},
   "outputs": [],
   "source": [
    "import sys\n",
    "sys.path.append(\"../src\")\n",
    "\n",
    "from Utils import *"
   ]
  },
  {
   "cell_type": "markdown",
   "metadata": {},
   "source": [
    "## Initializing Spark Session"
   ]
  },
  {
   "cell_type": "code",
   "execution_count": 2,
   "metadata": {},
   "outputs": [],
   "source": [
    "sc = SparkContext.getOrCreate()\n",
    "ss = SparkSession(sc)"
   ]
  },
  {
   "cell_type": "markdown",
   "metadata": {},
   "source": [
    "## Reading data"
   ]
  },
  {
   "cell_type": "code",
   "execution_count": 3,
   "metadata": {},
   "outputs": [],
   "source": [
    "data_zipped = zipfile.ZipFile(\"../data/ml-20m.zip\")"
   ]
  },
  {
   "cell_type": "code",
   "execution_count": 4,
   "metadata": {},
   "outputs": [],
   "source": [
    "DATA_ROOT_PATH = \"data\"\n",
    "\n",
    "if not os.path.isdir(\"data\"):\n",
    "    os.makedirs(\"data\")"
   ]
  },
  {
   "cell_type": "code",
   "execution_count": 5,
   "metadata": {},
   "outputs": [
    {
     "name": "stdout",
     "output_type": "stream",
     "text": [
      "Reading genome-scores.csv\n",
      "Reading genome-tags.csv\n",
      "Reading links.csv\n",
      "Reading movies.csv\n",
      "Reading ratings.csv\n",
      "Reading README.txt\n",
      "Reading tags.csv\n"
     ]
    }
   ],
   "source": [
    "for f in data_zipped.filelist:\n",
    "    filename = f.filename\n",
    "    print(\"Reading {0}\".format(filename))\n",
    "    if os.path.exists(os.path.join(DATA_ROOT_PATH, filename)): continue\n",
    "    \n",
    "    data_zipped.extract(filename, DATA_ROOT_PATH)"
   ]
  },
  {
   "cell_type": "code",
   "execution_count": 6,
   "metadata": {},
   "outputs": [],
   "source": [
    "readcsv = lambda filename: ss.read\\\n",
    "                            .format(\"csv\")\\\n",
    "                            .option('header', 'true') \\\n",
    "                            .load(os.path.join(\"data\", filename), inferSchema='true')"
   ]
  },
  {
   "cell_type": "code",
   "execution_count": 7,
   "metadata": {},
   "outputs": [
    {
     "name": "stdout",
     "output_type": "stream",
     "text": [
      "Movies: 10,381\n",
      "+-------+-----+--------------------+\n",
      "|movieId|tagId|           relevance|\n",
      "+-------+-----+--------------------+\n",
      "|      1|    1|0.025000000000000022|\n",
      "|      1|    2|0.025000000000000022|\n",
      "|      1|    3|0.057750000000000024|\n",
      "|      1|    4|             0.09675|\n",
      "|      1|    5|             0.14675|\n",
      "+-------+-----+--------------------+\n",
      "only showing top 5 rows\n",
      "\n"
     ]
    }
   ],
   "source": [
    "genome_scores = readcsv(\"genome-scores.csv\")\n",
    "print(\"Movies: {0:,}\".format(get_count(genome_scores,\"movieId\")))\n",
    "genome_scores.cache()\n",
    "genome_scores.show(5)"
   ]
  },
  {
   "cell_type": "code",
   "execution_count": 8,
   "metadata": {},
   "outputs": [
    {
     "name": "stdout",
     "output_type": "stream",
     "text": [
      "+-----+------------+\n",
      "|tagId|         tag|\n",
      "+-----+------------+\n",
      "|    1|         007|\n",
      "|    2|007 (series)|\n",
      "|    3|18th century|\n",
      "|    4|       1920s|\n",
      "|    5|       1930s|\n",
      "+-----+------------+\n",
      "only showing top 5 rows\n",
      "\n"
     ]
    }
   ],
   "source": [
    "genome_tags = readcsv(\"genome-tags.csv\")\n",
    "genome_tags.show(5)"
   ]
  },
  {
   "cell_type": "code",
   "execution_count": 9,
   "metadata": {},
   "outputs": [
    {
     "name": "stdout",
     "output_type": "stream",
     "text": [
      "+-------+------+------+\n",
      "|movieId|imdbId|tmdbId|\n",
      "+-------+------+------+\n",
      "|      1|114709|   862|\n",
      "|      2|113497|  8844|\n",
      "|      3|113228| 15602|\n",
      "|      4|114885| 31357|\n",
      "|      5|113041| 11862|\n",
      "+-------+------+------+\n",
      "only showing top 5 rows\n",
      "\n"
     ]
    }
   ],
   "source": [
    "links = readcsv(\"links.csv\")\n",
    "links.show(5)"
   ]
  },
  {
   "cell_type": "code",
   "execution_count": 10,
   "metadata": {},
   "outputs": [
    {
     "name": "stdout",
     "output_type": "stream",
     "text": [
      "Movies: 27,278\n",
      "+-------+--------------------+--------------------+\n",
      "|movieId|               title|              genres|\n",
      "+-------+--------------------+--------------------+\n",
      "|      1|    Toy Story (1995)|Adventure|Animati...|\n",
      "|      2|      Jumanji (1995)|Adventure|Childre...|\n",
      "|      3|Grumpier Old Men ...|      Comedy|Romance|\n",
      "|      4|Waiting to Exhale...|Comedy|Drama|Romance|\n",
      "|      5|Father of the Bri...|              Comedy|\n",
      "+-------+--------------------+--------------------+\n",
      "only showing top 5 rows\n",
      "\n"
     ]
    }
   ],
   "source": [
    "movies = readcsv(\"movies.csv\")\n",
    "print(\"Movies: {0:,}\".format(movies.count()))\n",
    "movies.cache()\n",
    "movies.show(5)"
   ]
  },
  {
   "cell_type": "code",
   "execution_count": 11,
   "metadata": {},
   "outputs": [
    {
     "name": "stdout",
     "output_type": "stream",
     "text": [
      "+------+-------+------+----------+--------+\n",
      "|userId|movieId|rating| timestamp|ratingId|\n",
      "+------+-------+------+----------+--------+\n",
      "|     1|      2|   3.5|1112486027|       0|\n",
      "|     1|     29|   3.5|1112484676|       1|\n",
      "|     1|     32|   3.5|1112484819|       2|\n",
      "|     1|     47|   3.5|1112484727|       3|\n",
      "|     1|     50|   3.5|1112484580|       4|\n",
      "+------+-------+------+----------+--------+\n",
      "only showing top 5 rows\n",
      "\n"
     ]
    }
   ],
   "source": [
    "ratings = readcsv(\"ratings.csv\").withColumn(\"ratingId\", monotonically_increasing_id())\n",
    "ratings.show(5)"
   ]
  },
  {
   "cell_type": "code",
   "execution_count": 12,
   "metadata": {},
   "outputs": [
    {
     "name": "stdout",
     "output_type": "stream",
     "text": [
      "Users: 138,493\n",
      "Movies: 26,744\n",
      "Ratings: 20,000,263\n"
     ]
    }
   ],
   "source": [
    "print(\"Users: {0:,}\".format(get_count(ratings,\"userId\")))\n",
    "print(\"Movies: {0:,}\".format(get_count(ratings,\"movieId\")))\n",
    "print(\"Ratings: {0:,}\".format(ratings.count()))"
   ]
  },
  {
   "cell_type": "code",
   "execution_count": 13,
   "metadata": {},
   "outputs": [
    {
     "name": "stdout",
     "output_type": "stream",
     "text": [
      "+------+-------+-------------+----------+\n",
      "|userId|movieId|          tag| timestamp|\n",
      "+------+-------+-------------+----------+\n",
      "|    18|   4141|  Mark Waters|1240597180|\n",
      "|    65|    208|    dark hero|1368150078|\n",
      "|    65|    353|    dark hero|1368150079|\n",
      "|    65|    521|noir thriller|1368149983|\n",
      "|    65|    592|    dark hero|1368150078|\n",
      "+------+-------+-------------+----------+\n",
      "only showing top 5 rows\n",
      "\n"
     ]
    }
   ],
   "source": [
    "tags = readcsv(\"tags.csv\")\n",
    "tags.show(5)"
   ]
  },
  {
   "cell_type": "markdown",
   "metadata": {},
   "source": [
    "## 1) Users' tag assignment reliability\n",
    "\n",
    "<img src=\"../misc/critic.jpeg\" >\n",
    "\n",
    "### 1.1) Which \"User\" gave which \"Tag\" to which \"Movie\"?"
   ]
  },
  {
   "cell_type": "code",
   "execution_count": 14,
   "metadata": {},
   "outputs": [
    {
     "name": "stdout",
     "output_type": "stream",
     "text": [
      "+------+-----+-------+\n",
      "|userId|tagId|movieId|\n",
      "+------+-----+-------+\n",
      "|    65|  288|    208|\n",
      "|    65|  288|    353|\n",
      "|    65|  712|    521|\n",
      "|    65|  288|    592|\n",
      "|    65|  149|    668|\n",
      "|    65|  894|    898|\n",
      "|    65|  712|   1248|\n",
      "|    65|  630|   1391|\n",
      "|    65|  700|   1617|\n",
      "|    65|  579|   1694|\n",
      "+------+-----+-------+\n",
      "only showing top 10 rows\n",
      "\n"
     ]
    }
   ],
   "source": [
    "userId_tagId_movieId = tags.join(genome_tags, on=\"tag\").select([\"userId\",\"tagId\",\"movieId\"])\n",
    "userId_tagId_movieId.cache()\n",
    "userId_tagId_movieId.show(10)"
   ]
  },
  {
   "cell_type": "markdown",
   "metadata": {},
   "source": [
    "### 1.2) How relevant each tag assignment was"
   ]
  },
  {
   "cell_type": "code",
   "execution_count": 15,
   "metadata": {},
   "outputs": [
    {
     "name": "stdout",
     "output_type": "stream",
     "text": [
      "+-----+-------+------+------------------+\n",
      "|tagId|movieId|userId|         relevance|\n",
      "+-----+-------+------+------------------+\n",
      "|   29|      1|135595|0.8919999999999999|\n",
      "|   29|      1|131900|0.8919999999999999|\n",
      "|   29|      1|111202|0.8919999999999999|\n",
      "|   29|      1|107711|0.8919999999999999|\n",
      "|   29|      1|103582|0.8919999999999999|\n",
      "|   29|      1|103125|0.8919999999999999|\n",
      "|   29|      1| 76878|0.8919999999999999|\n",
      "|   29|      1| 72257|0.8919999999999999|\n",
      "|   29|      1| 72073|0.8919999999999999|\n",
      "|   29|      1| 10616|0.8919999999999999|\n",
      "+-----+-------+------+------------------+\n",
      "only showing top 10 rows\n",
      "\n"
     ]
    }
   ],
   "source": [
    "userId_tagId_movieId_relevance = userId_tagId_movieId.join(genome_scores, on=[\"tagId\",\"movieId\"])\n",
    "userId_tagId_movieId_relevance.show(10)"
   ]
  },
  {
   "cell_type": "markdown",
   "metadata": {},
   "source": [
    "### 1.3) Calculating user reliability (ranges btw 0 --> 1)\n",
    "#### Irrelevant tag assignments are punished\n",
    "First multiply relevance with 10 and then substract $8$ so relevance score range will be between $-6$ and $6$ and then apply sigmoid function.\n",
    "Relevance scores less than or equal to $0.2$ will go closer to $0$.\n",
    "- $ R = \\sigma(r * 15 - 9) $\n",
    "- $R$ Reliability score\n",
    "- $r$ Relevance score\n",
    "<img src=\"../misc/sigmoid.png\">"
   ]
  },
  {
   "cell_type": "code",
   "execution_count": 16,
   "metadata": {},
   "outputs": [],
   "source": [
    "sigmoid = udf(lambda x: 1/(1+exp(-x)))"
   ]
  },
  {
   "cell_type": "code",
   "execution_count": 17,
   "metadata": {
    "scrolled": false
   },
   "outputs": [
    {
     "name": "stdout",
     "output_type": "stream",
     "text": [
      "+------+------------------+\n",
      "|userId|       reliability|\n",
      "+------+------------------+\n",
      "| 81949|0.9975273768433653|\n",
      "| 50441|0.9975273768433653|\n",
      "|105357|0.9975181101552658|\n",
      "|113642|0.9975181101552658|\n",
      "|119384|0.9975181101552658|\n",
      "| 23923|0.9975181101552658|\n",
      "| 68839|0.9975181101552658|\n",
      "|136694|0.9975181101552658|\n",
      "|136455|0.9975181101552658|\n",
      "| 20109|0.9975180928341759|\n",
      "+------+------------------+\n",
      "only showing top 10 rows\n",
      "\n"
     ]
    }
   ],
   "source": [
    "users_reliability = userId_tagId_movieId_relevance.select([\"userId\",\"relevance\"])\\\n",
    "                                            .withColumn(\"reliability\", sigmoid(userId_tagId_movieId_relevance.relevance*15-9).cast(DoubleType()))\\\n",
    "                                            .groupBy(\"userId\").avg(\"reliability\")\\\n",
    "                                            .select([\"userId\", col(\"avg(reliability)\").alias(\"reliability\")])\\\n",
    "                                            .sort(desc(\"reliability\"))\n",
    "\n",
    "users_reliability.show(10)"
   ]
  },
  {
   "cell_type": "markdown",
   "metadata": {},
   "source": [
    "## 2) Most reliably rated movies\n",
    "Ratings are multiplied by users' reliability scores"
   ]
  },
  {
   "cell_type": "code",
   "execution_count": 19,
   "metadata": {},
   "outputs": [
    {
     "name": "stdout",
     "output_type": "stream",
     "text": [
      "+--------+------+-------+--------------------+--------------------+------+------------------+\n",
      "|ratingId|userId|movieId|               title|              genres|rating|   reliable_rating|\n",
      "+--------+------+-------+--------------------+--------------------+------+------------------+\n",
      "|  738649|  4935|     50|Usual Suspects, T...|Crime|Mystery|Thr...|   3.0|1.6281716302354838|\n",
      "|  738650|  4935|    288|Natural Born Kill...|Action|Crime|Thri...|   3.5|1.8995335686080645|\n",
      "|  738651|  4935|    413|     Airheads (1994)|              Comedy|   4.0|2.1708955069806453|\n",
      "|  738652|  4935|    527|Schindler's List ...|           Drama|War|   2.5|1.3568096918629033|\n",
      "|  738653|  4935|    546|Super Mario Bros....|Action|Adventure|...|   1.0|0.5427238767451613|\n",
      "|  738654|  4935|    562|Welcome to the Do...|        Comedy|Drama|   3.5|1.8995335686080645|\n",
      "|  738655|  4935|    745|Wallace & Gromit:...|Animation|Childre...|   3.0|1.6281716302354838|\n",
      "|  738656|  4935|   1175| Delicatessen (1991)|Comedy|Drama|Romance|   2.5|1.3568096918629033|\n",
      "|  738657|  4935|   1220|Blues Brothers, T...|Action|Comedy|Mus...|   2.5|1.3568096918629033|\n",
      "|  738658|  4935|   1235|Harold and Maude ...|Comedy|Drama|Romance|   2.5|1.3568096918629033|\n",
      "+--------+------+-------+--------------------+--------------------+------+------------------+\n",
      "only showing top 10 rows\n",
      "\n"
     ]
    }
   ],
   "source": [
    "userId_movieId_title_ratings  = ratings.join(users_reliability, on=\"userId\")\\\n",
    "                                 .withColumn(\"reliable_rating\", col(\"rating\")*col(\"reliability\"))\\\n",
    "                                 .join(movies, on=\"movieId\")\\\n",
    "                                 .select([\"ratingId\", \"userId\", \"movieId\",\n",
    "                                          \"title\", \"genres\", \"rating\", \"reliable_rating\"])\n",
    "userId_movieId_title_ratings.cache()\n",
    "userId_movieId_title_ratings.show(10)"
   ]
  },
  {
   "cell_type": "code",
   "execution_count": 20,
   "metadata": {},
   "outputs": [],
   "source": [
    "userId_movieId_title_ratings.write.mode('overwrite').csv(\"../data/userId_movieId_title_ratings.csv\", header=True)"
   ]
  },
  {
   "cell_type": "code",
   "execution_count": 20,
   "metadata": {},
   "outputs": [
    {
     "name": "stdout",
     "output_type": "stream",
     "text": [
      "+-------+--------------------+------------------+\n",
      "|movieId|               title|            rating|\n",
      "+-------+--------------------+------------------+\n",
      "| 117314|Neurons to Nirvan...| 4.987590550776329|\n",
      "|  27829|      Slasher (2004)| 4.985802022050766|\n",
      "| 113244|  When I Walk (2013)| 4.985802022050766|\n",
      "|  99450|   Sun Kissed (2012)| 4.985802022050766|\n",
      "|  96935|My Left Eye Sees ...| 4.985802022050766|\n",
      "|  33380|     25 Watts (2001)| 4.984699608420732|\n",
      "|  51402|Forest for the Tr...|4.9844604768211145|\n",
      "|  94394|Scarlet Letter, T...| 4.983997618057762|\n",
      "|  95600|Candles on Bay St...| 4.983997618057762|\n",
      "|  95606|Thomas Jefferson ...| 4.983997618057762|\n",
      "+-------+--------------------+------------------+\n",
      "only showing top 10 rows\n",
      "\n"
     ]
    }
   ],
   "source": [
    "movieId_title_rating = userId_movieId_title_ratings.select([\"movieId\", \"title\", \"reliable_rating\"])\\\n",
    "                                       .groupBy([\"movieId\", \"title\"]).avg(\"reliable_rating\")\\\n",
    "                                       .select([\"movieId\", \"title\", col(\"avg(reliable_rating)\").alias(\"rating\")])\\\n",
    "                                       .sort(desc(\"rating\"))\n",
    "\n",
    "movieId_title_rating.show(10)"
   ]
  },
  {
   "cell_type": "markdown",
   "metadata": {},
   "source": [
    "### Most rated movie\n",
    "\n",
    "<img src=\"../misc/best_movie.jpg\">"
   ]
  },
  {
   "cell_type": "markdown",
   "metadata": {},
   "source": [
    "## 3) Most reliably rated tags"
   ]
  },
  {
   "cell_type": "code",
   "execution_count": 21,
   "metadata": {},
   "outputs": [
    {
     "name": "stdout",
     "output_type": "stream",
     "text": [
      "+-----+--------------------+------------------+\n",
      "|tagId|                 tag|            rating|\n",
      "+-----+--------------------+------------------+\n",
      "|  654|           minnesota| 4.823053035379038|\n",
      "|  590|         king arthur| 4.797952835820484|\n",
      "|  976|       studio ghibli| 4.554853506188381|\n",
      "|  760|oscar (best writi...| 4.468975853673555|\n",
      "|  290|           dc comics| 4.461021798385487|\n",
      "|  591|             kubrick| 4.419001271985087|\n",
      "|  677|              mozart|4.3786996205063415|\n",
      "|  207|        chris tucker| 4.343594240545502|\n",
      "|  858|    robert downey jr| 4.269332120489323|\n",
      "|  879| saturday night live| 4.240571940391272|\n",
      "+-----+--------------------+------------------+\n",
      "only showing top 10 rows\n",
      "\n"
     ]
    }
   ],
   "source": [
    "tagId_tag_rating = userId_movieId_title_ratings.join(userId_tagId_movieId, on=[\"movieId\", \"userId\"])\\\n",
    "                                   .select([\"tagId\", \"reliable_rating\"])\\\n",
    "                                   .groupBy(\"tagId\").avg(\"reliable_rating\")\\\n",
    "                                   .join(genome_tags, on=\"tagId\")\\\n",
    "                                   .select([\"tagId\", \"tag\", col(\"avg(reliable_rating)\").alias(\"rating\")])\\\n",
    "                                   .sort(desc(\"rating\"))\n",
    "\n",
    "tagId_tag_rating.show(10)"
   ]
  },
  {
   "cell_type": "markdown",
   "metadata": {},
   "source": [
    "## 3) Most reliably rated genres"
   ]
  },
  {
   "cell_type": "code",
   "execution_count": 22,
   "metadata": {},
   "outputs": [
    {
     "data": {
      "text/plain": [
       "[(738649,\n",
       "  Row(movieId=50, ratingId=738649, userId=4935, title='Usual Suspects, The (1995)', rating=3.0, reliable_rating=1.6281716302354838, title='Usual Suspects, The (1995)', genres='Crime|Mystery|Thriller'))]"
      ]
     },
     "execution_count": 22,
     "metadata": {},
     "output_type": "execute_result"
    }
   ],
   "source": [
    "genre_rating = userId_movieId_title_ratings.join(movies, on=\"movieId\")\n",
    "columns = genre_rating.columns\n",
    "genre_rating_rdd = genre_rating.rdd.map(lambda x: (x[\"ratingId\"], x))\n",
    "del genre_rating\n",
    "genre_rating_rdd.take(1)"
   ]
  },
  {
   "cell_type": "code",
   "execution_count": 23,
   "metadata": {},
   "outputs": [
    {
     "data": {
      "text/plain": [
       "{'movieId': 50,\n",
       " 'ratingId': 738649,\n",
       " 'userId': 4935,\n",
       " 'title': 'Usual Suspects, The (1995)',\n",
       " 'rating': 3.0,\n",
       " 'reliable_rating': 1.6281716302354838,\n",
       " 'genres': 'Crime|Mystery|Thriller'}"
      ]
     },
     "execution_count": 23,
     "metadata": {},
     "output_type": "execute_result"
    }
   ],
   "source": [
    "dict(zip(columns, genre_rating_rdd.take(1)[0][1]))"
   ]
  },
  {
   "cell_type": "code",
   "execution_count": 24,
   "metadata": {},
   "outputs": [
    {
     "name": "stdout",
     "output_type": "stream",
     "text": [
      "+--------+--------+\n",
      "|   genre|ratingId|\n",
      "+--------+--------+\n",
      "|   Crime|  738649|\n",
      "| Mystery|  738649|\n",
      "|Thriller|  738649|\n",
      "|  Action|  738650|\n",
      "|   Crime|  738650|\n",
      "|Thriller|  738650|\n",
      "|  Comedy|  738651|\n",
      "|   Drama|  738652|\n",
      "|     War|  738652|\n",
      "|  Action|  738653|\n",
      "+--------+--------+\n",
      "only showing top 10 rows\n",
      "\n"
     ]
    }
   ],
   "source": [
    "ratingId_genre = genre_rating_rdd.flatMapValues(lambda row: row[-1].split('|'))\\\n",
    "                                 .map(lambda row: Row(ratingId=row[0], genre=row[1]))\\\n",
    "                                 .toDF()\n",
    "ratingId_genre.show(10)"
   ]
  },
  {
   "cell_type": "code",
   "execution_count": 25,
   "metadata": {
    "scrolled": false
   },
   "outputs": [
    {
     "name": "stdout",
     "output_type": "stream",
     "text": [
      "+------------+------------------+------+\n",
      "|          Id|             genre|rating|\n",
      "+------------+------------------+------+\n",
      "|           0|         Film-Noir| 3.018|\n",
      "|  8589934592|               War| 2.914|\n",
      "| 17179869184|             Crime| 2.856|\n",
      "| 25769803776|           Mystery| 2.851|\n",
      "| 34359738368|             Drama| 2.839|\n",
      "| 42949672960|       Documentary| 2.833|\n",
      "| 51539607552|         Animation| 2.822|\n",
      "| 60129542144|              IMAX| 2.808|\n",
      "| 68719476736|           Western| 2.801|\n",
      "| 77309411328|          Thriller| 2.737|\n",
      "| 85899345920|         Adventure| 2.724|\n",
      "| 85899345921|           Musical| 2.724|\n",
      "| 94489280512|           Fantasy| 2.718|\n",
      "|103079215104|            Sci-Fi| 2.717|\n",
      "|111669149696|           Romance| 2.706|\n",
      "|120259084288|            Action| 2.699|\n",
      "|128849018880|            Comedy| 2.631|\n",
      "|137438953472|          Children| 2.623|\n",
      "|146028888064|(no genres listed)| 2.609|\n",
      "|154618822656|            Horror| 2.557|\n",
      "+------------+------------------+------+\n",
      "\n"
     ]
    }
   ],
   "source": [
    "genre_rating = genre_rating_rdd.map(lambda row: Row(**dict(zip(columns, row[1]))))\\\n",
    "                               .toDF()\\\n",
    "                               .join(ratingId_genre, on=\"ratingId\")\\\n",
    "                               .select([\"genre\", \"reliable_rating\"])\\\n",
    "                               .groupBy(\"genre\").avg(\"reliable_rating\")\\\n",
    "                               .select([\"genre\", dfround(col(\"avg(reliable_rating)\"), 3).alias(\"rating\")])\\\n",
    "                               .sort(desc(\"rating\"))\\\n",
    "                               .withColumn(\"Id\", monotonically_increasing_id())\\\n",
    "                               .select([\"Id\", \"genre\", \"rating\"])\n",
    "\n",
    "genre_rating.cache()\n",
    "genre_rating.show(20)"
   ]
  },
  {
   "cell_type": "markdown",
   "metadata": {},
   "source": [
    "<img src=\"../misc/best_genre.jpg\">"
   ]
  }
 ],
 "metadata": {
  "kernelspec": {
   "display_name": "Python 3",
   "language": "python",
   "name": "python3"
  },
  "language_info": {
   "codemirror_mode": {
    "name": "ipython",
    "version": 3
   },
   "file_extension": ".py",
   "mimetype": "text/x-python",
   "name": "python",
   "nbconvert_exporter": "python",
   "pygments_lexer": "ipython3",
   "version": "3.6.7"
  }
 },
 "nbformat": 4,
 "nbformat_minor": 2
}

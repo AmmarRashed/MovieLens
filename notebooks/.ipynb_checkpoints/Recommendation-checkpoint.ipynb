{
 "cells": [
  {
   "cell_type": "code",
   "execution_count": 1,
   "metadata": {},
   "outputs": [],
   "source": [
    "import sys\n",
    "sys.path.append(\"../src\")"
   ]
  },
  {
   "cell_type": "code",
   "execution_count": 2,
   "metadata": {},
   "outputs": [],
   "source": [
    "from Utils import *"
   ]
  },
  {
   "cell_type": "code",
   "execution_count": 3,
   "metadata": {},
   "outputs": [],
   "source": [
    "sc = SparkContext.getOrCreate()\n",
    "ss = SparkSession(sc)"
   ]
  },
  {
   "cell_type": "code",
   "execution_count": 4,
   "metadata": {},
   "outputs": [
    {
     "name": "stdout",
     "output_type": "stream",
     "text": [
      "2,020,165\n",
      "+--------+------+-------+--------------------+------+------------------+\n",
      "|ratingId|userId|movieId|               title|rating|   reliable_rating|\n",
      "+--------+------+-------+--------------------+------+------------------+\n",
      "|  690318|  4581|      1|    Toy Story (1995)|   3.5|3.4679791510869786|\n",
      "|  690319|  4581|      2|      Jumanji (1995)|   2.5|2.4771279650621274|\n",
      "|  690320|  4581|     17|Sense and Sensibi...|   4.0| 3.963404744099404|\n",
      "|  690321|  4581|     19|Ace Ventura: When...|   3.5|3.4679791510869786|\n",
      "|  690322|  4581|     32|Twelve Monkeys (a...|   4.0| 3.963404744099404|\n",
      "+--------+------+-------+--------------------+------+------------------+\n",
      "only showing top 5 rows\n",
      "\n"
     ]
    }
   ],
   "source": [
    "ratings = ss.read\\\n",
    "            .format(\"csv\")\\\n",
    "            .option('header', 'true')\\\n",
    "            .load(os.path.join(\"../data\",\"userId_movieId_title_ratings.csv\"), inferSchema='true')\n",
    "\n",
    "ratings.persist()\n",
    "print(\"{0:,}\".format(ratings.count()))\n",
    "ratings.show(5)"
   ]
  },
  {
   "cell_type": "code",
   "execution_count": 5,
   "metadata": {},
   "outputs": [],
   "source": [
    "movies = ratings.select([\"movieId\", \"title\"]).dropDuplicates()"
   ]
  },
  {
   "cell_type": "markdown",
   "metadata": {},
   "source": [
    "### ALS model\n",
    "\n",
    "<img src=\"../misc/matrix_factorization.png\">"
   ]
  },
  {
   "cell_type": "code",
   "execution_count": 6,
   "metadata": {},
   "outputs": [],
   "source": [
    "als_params = {\"userCol\":\"userId\", \"itemCol\":\"movieId\",\n",
    "              \"ratingCol\":\"rating\", \"coldStartStrategy\":\"drop\"}"
   ]
  },
  {
   "cell_type": "code",
   "execution_count": 7,
   "metadata": {},
   "outputs": [
    {
     "name": "stdout",
     "output_type": "stream",
     "text": [
      "+--------+------+-------+--------------------+------+------------------+\n",
      "|ratingId|userId|movieId|               title|rating|   reliable_rating|\n",
      "+--------+------+-------+--------------------+------+------------------+\n",
      "|  690318|  4581|      1|    Toy Story (1995)|   3.5|3.4679791510869786|\n",
      "|  690319|  4581|      2|      Jumanji (1995)|   2.5|2.4771279650621274|\n",
      "|  690320|  4581|     17|Sense and Sensibi...|   4.0| 3.963404744099404|\n",
      "|  690321|  4581|     19|Ace Ventura: When...|   3.5|3.4679791510869786|\n",
      "|  690322|  4581|     32|Twelve Monkeys (a...|   4.0| 3.963404744099404|\n",
      "+--------+------+-------+--------------------+------+------------------+\n",
      "only showing top 5 rows\n",
      "\n"
     ]
    }
   ],
   "source": [
    "ratings.show(5)"
   ]
  },
  {
   "cell_type": "code",
   "execution_count": 8,
   "metadata": {
    "scrolled": false
   },
   "outputs": [
    {
     "name": "stdout",
     "output_type": "stream",
     "text": [
      "Best model: 14 rank, 0.06 reg param\n",
      "train RMSE = 0.6832028325789606\n",
      "test RMSE = 0.7556552849087378\n"
     ]
    }
   ],
   "source": [
    "train, test = ratings.randomSplit([0.9, 0.1])\n",
    "model = evaluate_ALS(train, test, als_params)"
   ]
  },
  {
   "cell_type": "code",
   "execution_count": 9,
   "metadata": {
    "scrolled": true
   },
   "outputs": [
    {
     "name": "stdout",
     "output_type": "stream",
     "text": [
      "Best model: 14 rank, 0.06 reg param\n",
      "train RMSE = 0.5678966599273602\n",
      "test RMSE = 0.6221816592808722\n"
     ]
    }
   ],
   "source": [
    "als_params[\"ratingCol\"]=\"reliable_rating\"\n",
    "reliable_model = evaluate_ALS(train, test, als_params)"
   ]
  },
  {
   "cell_type": "code",
   "execution_count": 10,
   "metadata": {},
   "outputs": [],
   "source": [
    "model.save(\"models/bl_als_model\")  # LOADING > model = ALSModel.load(\"models/bl_als_model\")\n",
    "reliable_model.save(\"models/als_model\")"
   ]
  },
  {
   "cell_type": "code",
   "execution_count": 11,
   "metadata": {},
   "outputs": [
    {
     "name": "stdout",
     "output_type": "stream",
     "text": [
      "+-------+--------------------+\n",
      "|movieId|               title|\n",
      "+-------+--------------------+\n",
      "|   2076|  Blue Velvet (1986)|\n",
      "|   1490|      B*A*P*S (1997)|\n",
      "|   2657|Rocky Horror Pict...|\n",
      "|   4085|Beverly Hills Cop...|\n",
      "|   6548|  Bad Boys II (2003)|\n",
      "+-------+--------------------+\n",
      "only showing top 5 rows\n",
      "\n"
     ]
    }
   ],
   "source": [
    "movies.show(5)"
   ]
  },
  {
   "cell_type": "code",
   "execution_count": 12,
   "metadata": {
    "scrolled": false
   },
   "outputs": [],
   "source": [
    "userRecs, movieRecs = get_recommendations(reliable_model, movies)"
   ]
  },
  {
   "cell_type": "code",
   "execution_count": 13,
   "metadata": {},
   "outputs": [
    {
     "name": "stdout",
     "output_type": "stream",
     "text": [
      "+------+-------+--------------------+-----------------+\n",
      "|userId|movieId|               title|           rating|\n",
      "+------+-------+--------------------+-----------------+\n",
      "|    65| 101880|Siberian Educatio...|5.092074394226074|\n",
      "|    65| 117909|     The Kiss (1900)| 5.02252197265625|\n",
      "|    65| 106048|Four Days in July...|4.845987319946289|\n",
      "|    65| 112423|I Belong (Som du ...|4.845987319946289|\n",
      "|    65| 104803|    Holocaust (1978)|4.796901702880859|\n",
      "+------+-------+--------------------+-----------------+\n",
      "only showing top 5 rows\n",
      "\n"
     ]
    }
   ],
   "source": [
    "userRecs.show(5)"
   ]
  },
  {
   "cell_type": "code",
   "execution_count": 14,
   "metadata": {},
   "outputs": [
    {
     "name": "stdout",
     "output_type": "stream",
     "text": [
      "+-------+------+----------------+-----------------+\n",
      "|movieId|userId|           title|           rating|\n",
      "+-------+------+----------------+-----------------+\n",
      "|      1| 72714|Toy Story (1995)|4.891761302947998|\n",
      "|      1|117942|Toy Story (1995)|4.771142959594727|\n",
      "|      1| 76958|Toy Story (1995)|4.708400249481201|\n",
      "|      1|  5024|Toy Story (1995)|4.706437587738037|\n",
      "|      1|  8527|Toy Story (1995)|4.705178260803223|\n",
      "+-------+------+----------------+-----------------+\n",
      "only showing top 5 rows\n",
      "\n"
     ]
    }
   ],
   "source": [
    "movieRecs.show(5)"
   ]
  }
 ],
 "metadata": {
  "kernelspec": {
   "display_name": "Python 3",
   "language": "python",
   "name": "python3"
  },
  "language_info": {
   "codemirror_mode": {
    "name": "ipython",
    "version": 3
   },
   "file_extension": ".py",
   "mimetype": "text/x-python",
   "name": "python",
   "nbconvert_exporter": "python",
   "pygments_lexer": "ipython3",
   "version": "3.6.7"
  }
 },
 "nbformat": 4,
 "nbformat_minor": 2
}

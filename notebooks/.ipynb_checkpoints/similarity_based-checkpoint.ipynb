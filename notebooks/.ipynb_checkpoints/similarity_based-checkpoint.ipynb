{
 "cells": [
  {
   "cell_type": "code",
   "execution_count": 23,
   "metadata": {},
   "outputs": [],
   "source": [
    "import sys\n",
    "sys.path.append(\"../src\")"
   ]
  },
  {
   "cell_type": "code",
   "execution_count": 24,
   "metadata": {},
   "outputs": [],
   "source": [
    "from Utils import *"
   ]
  },
  {
   "cell_type": "code",
   "execution_count": 25,
   "metadata": {},
   "outputs": [],
   "source": [
    "sc = SparkContext.getOrCreate()\n",
    "ss = SparkSession(sc)"
   ]
  },
  {
   "cell_type": "code",
   "execution_count": 26,
   "metadata": {},
   "outputs": [],
   "source": [
    "def sample_data(df, movies_count=5000, users_count=1000):\n",
    "    return df.select(\"movieId\").dropDuplicates().limit(movies_count)\\\n",
    "            .join(df, on=\"movieId\").join(df.select(\"userId\").dropDuplicates().limit(users_count), on=\"userId\")\n",
    "            "
   ]
  },
  {
   "cell_type": "code",
   "execution_count": 27,
   "metadata": {
    "scrolled": true
   },
   "outputs": [
    {
     "name": "stdout",
     "output_type": "stream",
     "text": [
      "Users: 1,000\n",
      "Movies: 3,306\n",
      "Ratings: 80,453\n",
      "+------+-------+--------+--------------------+--------------------+------+------------------+\n",
      "|userId|movieId|ratingId|               title|              genres|rating|   reliable_rating|\n",
      "+------+-------+--------+--------------------+--------------------+------+------------------+\n",
      "|  5936|    111|  887646|  Taxi Driver (1976)|Crime|Drama|Thriller|   4.5|3.7691303537482317|\n",
      "|  5936|    223|  887648|       Clerks (1994)|              Comedy|   4.0|3.3503380922206505|\n",
      "|  5936|    296|  887650| Pulp Fiction (1994)|Comedy|Crime|Dram...|   5.0| 4.187922615275813|\n",
      "|  5936|    471|  887655|Hudsucker Proxy, ...|              Comedy|   4.5|3.7691303537482317|\n",
      "|  5936|    858|  887660|Godfather, The (1...|         Crime|Drama|   4.0|3.3503380922206505|\n",
      "+------+-------+--------+--------------------+--------------------+------+------------------+\n",
      "only showing top 5 rows\n",
      "\n"
     ]
    }
   ],
   "source": [
    "ratings = ss.read\\\n",
    "            .format(\"csv\")\\\n",
    "            .option('header', 'true')\\\n",
    "            .load(os.path.join(\"../data\",\"userId_movieId_title_ratings.csv\"), inferSchema='true')\n",
    "    \n",
    "ratings = sample_data(ratings)\n",
    "ratings.persist()\n",
    "print(\"Users: {0:,}\".format(get_count(ratings,\"userId\")))\n",
    "print(\"Movies: {0:,}\".format(get_count(ratings,\"movieId\")))\n",
    "print(\"Ratings: {0:,}\".format(ratings.count()))\n",
    "ratings.show(5)"
   ]
  },
  {
   "cell_type": "code",
   "execution_count": 31,
   "metadata": {
    "scrolled": false
   },
   "outputs": [
    {
     "name": "stdout",
     "output_type": "stream",
     "text": [
      "3,306 movies\n",
      "+-------+-------+------------------+\n",
      "|movieId|#rating|  #reliable_rating|\n",
      "+-------+-------+------------------+\n",
      "|    471|    5.0| 4.971667471256922|\n",
      "|  31528|    4.5|4.4840060064508505|\n",
      "|   4900|    5.0| 4.962749463706647|\n",
      "|   1580|    5.0| 4.986457469239084|\n",
      "|  44022|    5.0| 4.853260910176726|\n",
      "|   8638|    5.0| 4.983877537450501|\n",
      "|  68135|    4.5| 4.093356760815128|\n",
      "|   1645|    5.0|  4.98749736361837|\n",
      "|   6620|    5.0| 4.987562612014458|\n",
      "|   1591|    5.0| 4.045173444033664|\n",
      "|   3794|    4.0|3.9848537060329736|\n",
      "|   4519|    5.0| 4.389483628043458|\n",
      "|   5300|    4.5| 3.988684011538107|\n",
      "|  54190|    5.0| 4.981067132541217|\n",
      "|  36525|    5.0| 4.986117032403464|\n",
      "|   3175|    5.0|  4.98749736361837|\n",
      "|   1088|    5.0| 4.981067132541217|\n",
      "|  96488|    5.0| 4.904379816245556|\n",
      "|   5803|    4.0| 3.969224519756879|\n",
      "|   3997|    4.0|3.4451974187633945|\n",
      "+-------+-------+------------------+\n",
      "only showing top 20 rows\n",
      "\n"
     ]
    }
   ],
   "source": [
    "sum_ratings_per_item = lambda item: ratings.select([item, \"rating\", \"reliable_rating\"])\\\n",
    "                                               .groupBy(item).max()\\\n",
    "                                               .select(\n",
    "    [item, col(\"max(rating)\").alias(\"#rating\"),col(\"max(reliable_rating)\").alias(\"#reliable_rating\")])\n",
    "\n",
    "sum_ratings_per_movie = sum_ratings_per_item(\"movieId\")\n",
    "print(\"{0:,} movies\".format(sum_ratings_per_movie.count()))\n",
    "sum_ratings_per_movie.show()"
   ]
  },
  {
   "cell_type": "code",
   "execution_count": 32,
   "metadata": {},
   "outputs": [
    {
     "name": "stdout",
     "output_type": "stream",
     "text": [
      "1,000 users\n",
      "+------+-------+------------------+\n",
      "|userId|#rating|  #reliable_rating|\n",
      "+------+-------+------------------+\n",
      "|  4935|    5.0|2.7136193837258067|\n",
      "|  7880|    5.0| 4.164683584426196|\n",
      "|  7993|    5.0| 4.229870885587098|\n",
      "| 10817|    5.0|3.5244141738300354|\n",
      "| 13285|    5.0|3.9029876146221727|\n",
      "| 23364|    5.0|3.8724385431988533|\n",
      "| 23571|    5.0| 4.857474084534058|\n",
      "| 25591|    5.0| 4.274397466145984|\n",
      "| 34234|    5.0| 3.373803231428388|\n",
      "| 34239|    5.0| 4.980996271352866|\n",
      "| 36224|    5.0|3.6712075078887816|\n",
      "| 36538|    5.0| 4.916121796121436|\n",
      "| 40335|    5.0|  4.98426285678417|\n",
      "| 45011|    5.0| 4.889117547317986|\n",
      "| 65867|    5.0|   3.2552881540007|\n",
      "| 73683|    5.0|3.7494290887090465|\n",
      "| 83693|    4.0| 3.813770605093409|\n",
      "| 97092|    4.5|4.3566009363481255|\n",
      "|101055|    5.0| 4.505570816450706|\n",
      "|102594|    5.0|3.3354571051185906|\n",
      "+------+-------+------------------+\n",
      "only showing top 20 rows\n",
      "\n"
     ]
    }
   ],
   "source": [
    "sum_ratings_per_user = sum_ratings_per_item(\"userId\")\n",
    "print(\"{0:,} users\".format(sum_ratings_per_user.count()))\n",
    "sum_ratings_per_user.show()"
   ]
  },
  {
   "cell_type": "code",
   "execution_count": 33,
   "metadata": {},
   "outputs": [],
   "source": [
    "u_ratings = sc.broadcast({r[\"userId\"]: (r[\"#rating\"], r[\"#reliable_rating\"]) for r in sum_ratings_per_user.collect()})\n",
    "i_ratings = sc.broadcast({r[\"movieId\"]: (r[\"#rating\"], r[\"#reliable_rating\"]) for r in sum_ratings_per_movie.collect()})"
   ]
  },
  {
   "cell_type": "code",
   "execution_count": 34,
   "metadata": {},
   "outputs": [
    {
     "name": "stdout",
     "output_type": "stream",
     "text": [
      "+-------+-----+------------------+------+\n",
      "|movieId|p_i_u|             p_u_i|userId|\n",
      "+-------+-----+------------------+------+\n",
      "|    111|  0.9|0.7558908881866953|  5936|\n",
      "|    223|  0.8|0.6717385530459459|  5936|\n",
      "|    296|  1.0|0.8396731913074322|  5936|\n",
      "|    471|  0.9|0.7581219732693287|  5936|\n",
      "|    858|  0.8|0.6719428805596535|  5936|\n",
      "+-------+-----+------------------+------+\n",
      "only showing top 5 rows\n",
      "\n"
     ]
    }
   ],
   "source": [
    "# probs = ratings.select([\"userId\", \"movieId\", \"rating\", \"reliable_rating\"]).rdd\\\n",
    "probs = ratings.select([\"userId\", \"movieId\", \"reliable_rating\"]).rdd\\\n",
    "                .map(lambda x: Row(userId=x[\"userId\"], movieId=x[\"movieId\"],\n",
    "                                   \n",
    "#                         p_u_i_r=x[\"rating\"]/i_ratings.value[x[\"movieId\"]][0],\n",
    "                        p_u_i=x[\"reliable_rating\"]/i_ratings.value[x[\"movieId\"]][1],\n",
    "                                   \n",
    "#                         p_i_u_r=x[\"rating\"]/u_ratings.value[x[\"userId\"]][0],\n",
    "                        p_i_u=x[\"reliable_rating\"]/u_ratings.value[x[\"userId\"]][1]))\\\n",
    "                .toDF()\n",
    "probs.show(5)"
   ]
  },
  {
   "cell_type": "code",
   "execution_count": 35,
   "metadata": {},
   "outputs": [],
   "source": [
    "del sum_ratings_per_user, sum_ratings_per_movie, u_ratings, i_ratings"
   ]
  },
  {
   "cell_type": "markdown",
   "metadata": {},
   "source": [
    "$$p(e_a|u_i)=\\frac{\\text{# posts by }u_i\\text{ in } e_a}{\\text{# posts by } u_i}$$\n",
    "\n",
    "<br>\n",
    "\n",
    "$$p(u_i|e_a)=\\frac{\\text{# posts by }u_i\\text{ in } e_a}{\\text{# posts in } e_a}$$\n",
    "\n",
    "<br>\n",
    "\n",
    "$$\\textbf{MLE Similarity}=p(u_i|u_j) = 1-\\prod_{\\forall u_i, u_j \\in users, \\forall e \\in elements} (1-\n",
    "p(e|u_j)p(u_i|e))$$"
   ]
  },
  {
   "cell_type": "code",
   "execution_count": 36,
   "metadata": {},
   "outputs": [],
   "source": [
    "def users_mle_similarities_per_movie(probs):\n",
    "    \"\"\"\n",
    "    probs is an iterable [( p_i_u, p_u_i, userId)] where i is a movie m_i\n",
    "    \"\"\"\n",
    "#     \"\"\"\n",
    "#     probs is an iterable [( p_i_u_r, p_i_u_relr, p_u_i_r, p_u_i_relr, userId)] where i is a movie m_i\n",
    "#     \"\"\"\n",
    "    d = dict()  # {(ui, uj): (1-(p(i_ui) * p(uj_i)), repeat for 'reliable' probs)}\n",
    "    for i, j in product(probs, probs):\n",
    "        ui, uj = i[-1], j[-1]\n",
    "        if ui == uj: continue\n",
    "#         p_i_ui, p_i_ui_rel = i[0], i[1]\n",
    "#         p_uj_i, p_uj_i_rel = j[2], j[3]\n",
    "        p_i_ui = i[0]\n",
    "        p_uj_i = j[1]\n",
    "#         d[(ui, uj)] = (1 - p_i_ui*p_uj_i, 1 - p_i_ui_rel*p_uj_i_rel)\n",
    "        d[(ui, uj)] = 1 - p_i_ui*p_uj_i\n",
    "    return list(d.items())"
   ]
  },
  {
   "cell_type": "code",
   "execution_count": 37,
   "metadata": {
    "scrolled": false
   },
   "outputs": [
    {
     "name": "stdout",
     "output_type": "stream",
     "text": [
      "+---+-----+------+\n",
      "|sim|   ui|    uj|\n",
      "+---+-----+------+\n",
      "|1.0|13665| 59914|\n",
      "|1.0|13665| 57218|\n",
      "|1.0| 5936| 68905|\n",
      "|1.0|13665|138186|\n",
      "|1.0|13665| 70346|\n",
      "+---+-----+------+\n",
      "only showing top 5 rows\n",
      "\n"
     ]
    }
   ],
   "source": [
    "# users_similar_to_ui = probs.rdd.map(lambda r: (r[\"movieId\"],\n",
    "#                          (r[\"p_i_u_r\"], r[\"p_i_u_relr\"], r[\"p_u_i_r\"], r[\"p_u_i_relr\"], r[\"userId\"])))\\\n",
    "ml_similarities = probs.rdd.map(lambda r: (r[\"movieId\"],\n",
    "                         (r[\"p_i_u\"], r[\"p_u_i\"], r[\"userId\"])))\\\n",
    "        .groupByKey()\\\n",
    "        .mapValues(lambda x: users_mle_similarities_per_movie(x))\\\n",
    "        .flatMapValues(lambda x: x)\\\n",
    "        .map(lambda x: x[1])\\\n",
    "        .reduceByKey(lambda x1, x2: x1 * x2)\\\n",
    "        .map(lambda r: Row(ui=r[0][0], uj=r[0][1], sim=1-r[1]))\\\n",
    "        .toDF()\\\n",
    "        .sort(desc(\"sim\"))\\\n",
    "\n",
    "#         .reduceByKey(lambda x1, x2: (x1[0] * x2[0], x1[1]*x2[1]))\\\n",
    "#         .map(lambda r: Row(ui=r[0][0], uj=r[0][1], sim=1-r[1][0], sim_rel=1-r[1][1]))\\\n",
    "ml_similarities.write.mode('overwrite').csv(\"../data/similarities.csv\", header=True)\n",
    "ml_similarities.show(5)\n",
    "del ml_similarities"
   ]
  },
  {
   "cell_type": "code",
   "execution_count": 38,
   "metadata": {},
   "outputs": [],
   "source": [
    "def users_W_similarities_per_movie(rates, max_rating=5.):\n",
    "    \"\"\"\n",
    "    rates is a list [(ui, rating) for every user rating that movie]\n",
    "    \"\"\"\n",
    "    d = dict()\n",
    "    for (u1, r1), (u2, r2) in product(rates, rates):\n",
    "        if u1 == u2: continue\n",
    "        d[(u1, u2)] = (abs(r1 - r2), max_rating)\n",
    "    return list(d.items())"
   ]
  },
  {
   "cell_type": "markdown",
   "metadata": {},
   "source": [
    "$$W^{sim}(u, v) = 1-\\sum_{m\\in {M_u \\cap M_v}}{\\frac{{abs(r_u(m) - r_v(m))}}{R}}$$\n",
    "\n",
    "$R$ is the maximum rating (i.e 5.0)"
   ]
  },
  {
   "cell_type": "code",
   "execution_count": 39,
   "metadata": {
    "scrolled": false
   },
   "outputs": [
    {
     "name": "stdout",
     "output_type": "stream",
     "text": [
      "+------------------+------+------+\n",
      "|               sim|    ui|    uj|\n",
      "+------------------+------+------+\n",
      "|0.9999943499883635|104397| 24994|\n",
      "|0.9999943499883635| 24994|104397|\n",
      "|0.9999937846416633| 40335| 12373|\n",
      "|0.9999937846416633| 12373| 40335|\n",
      "|0.9999927547972378|  6108| 75808|\n",
      "+------------------+------+------+\n",
      "only showing top 5 rows\n",
      "\n"
     ]
    }
   ],
   "source": [
    "weighted_similarities = ratings.rdd.map(lambda r: (r[\"movieId\"], (r[\"userId\"], r[\"reliable_rating\"])))\\\n",
    "                                    .groupByKey()\\\n",
    "                                    .mapValues(lambda x: users_W_similarities_per_movie(x))\\\n",
    "                                    .flatMapValues(lambda x:x)\\\n",
    "                                    .map(lambda x:x[1])\\\n",
    "                                    .reduceByKey(lambda x1, x2: (x1[0]+x2[0], x1[1]+x2[1]))\\\n",
    "                                    .map(lambda x: Row(ui=x[0][0], uj=x[0][1], sim=1-float(x[1][0])/x[1][1]))\\\n",
    "                                    .toDF()\\\n",
    "                                    .sort(desc(\"sim\"))\n",
    "weighted_similarities.write.mode('overwrite').csv(\"../data/weighted_similarities.csv\", header=True)\n",
    "weighted_similarities.show(5)"
   ]
  },
  {
   "cell_type": "markdown",
   "metadata": {},
   "source": [
    "### Get recommendations for a user"
   ]
  },
  {
   "cell_type": "code",
   "execution_count": 40,
   "metadata": {
    "scrolled": false
   },
   "outputs": [
    {
     "name": "stdout",
     "output_type": "stream",
     "text": [
      "+------+-------+--------------------+------------------+------------------+--------------------+\n",
      "|userId|movieId|               title|            rating|              pred|               error|\n",
      "+------+-------+--------------------+------------------+------------------+--------------------+\n",
      "| 48838|    296| Pulp Fiction (1994)| 2.727917135391917|2.7763397347457524|0.002344748128182062|\n",
      "| 48838|   8015|Phantom Tollbooth...|3.5073220312181785| 2.717367809991806|  0.6240276716333648|\n",
      "| 48838|   1197|Princess Bride, T...|  3.89702447913131|2.7035503156823006|   1.424380578820312|\n",
      "| 48838|   2542|Lock, Stock & Two...|  3.89702447913131| 2.684786111663989|   1.469521859559835|\n",
      "| 48838|   1210|Star Wars: Episod...|  3.89702447913131| 2.666324690276045|   1.514621970288393|\n",
      "+------+-------+--------------------+------------------+------------------+--------------------+\n",
      "only showing top 5 rows\n",
      "\n"
     ]
    }
   ],
   "source": [
    "ui = 48838\n",
    "user_recs = weighted_similarities.filter(weighted_similarities.ui == ui)\\\n",
    "                                        .join(ratings, weighted_similarities.uj==ratings.userId)\\\n",
    "                                        .select([col(\"ui\").alias(\"userId\"), \"movieId\", \"title\",\n",
    "                                                 col(\"reliable_rating\").alias(\"rating\"), \"sim\"])\n",
    "\n",
    "user_recs = user_recs.withColumn(\"pred\", user_recs.rating*user_recs.sim)\\\n",
    "                                        .groupBy([\"userId\", \"movieId\"]).avg(\"pred\")\\\n",
    "                                        .select([\"userId\", \"movieId\", col(\"avg(pred)\").alias(\"pred\")])\\\n",
    "\n",
    "\n",
    "user_recs = user_recs.join(ratings, on=[\"userId\", \"movieId\"])\\\n",
    "                                        .select([\"userId\", \"movieId\", \"title\",\n",
    "                                                 col(\"reliable_rating\").alias(\"rating\"), \"pred\"])\n",
    "user_recs = user_recs.withColumn(\"error\", (user_recs.rating-user_recs.pred)**2).sort(desc(\"pred\"))\n",
    "user_recs.show(5)"
   ]
  },
  {
   "cell_type": "code",
   "execution_count": 41,
   "metadata": {},
   "outputs": [],
   "source": [
    "def get_user_recs_error(ui, similarities, recs_size=10):\n",
    "    user_recs = similarities.filter(similarities.ui == ui)\\\n",
    "                                            .join(ratings, similarities.uj==ratings.userId)\\\n",
    "                                            .select([col(\"ui\").alias(\"userId\"), \"movieId\", \"title\",\n",
    "                                                     \"genres\", col(\"reliable_rating\").alias(\"rating\"), \"sim\"])\n",
    "\n",
    "    user_recs = user_recs.withColumn(\"pred\", user_recs.rating*user_recs.sim)\\\n",
    "                                            .groupBy([\"userId\", \"movieId\", \"title\", \"genres\"]).avg(\"pred\")\\\n",
    "                                            .sort(desc(\"avg(pred)\"))\\\n",
    "                                            .select([\"userId\", \"movieId\", \"title\", \"genres\",\n",
    "                                                     col(\"avg(pred)\").alias(\"pred\")])\n",
    "\n",
    "    errors = user_recs.join(ratings, on=[\"userId\", \"movieId\"])\\\n",
    "                                            .select([col(\"reliable_rating\").alias(\"rating\"), \"pred\"])\n",
    "    errors = errors.withColumn(\"error\", (errors.rating-errors.pred)**2)\n",
    "    \n",
    "    error = errors.rdd.map(lambda x: x[\"error\"]).reduce(lambda x1, x2: x1+x2)\n",
    "    return error, user_recs.limit(recs_size), errors.count()"
   ]
  },
  {
   "cell_type": "code",
   "execution_count": 42,
   "metadata": {},
   "outputs": [],
   "source": [
    "def get_recommendations(users, similarities, recs_size=10):\n",
    "    error = 0\n",
    "    recs = None\n",
    "    count = 0\n",
    "    for u in users:\n",
    "        print(\"Predicting for user: {0}\".format(u))\n",
    "        e, r, c = get_user_recs_error(u, similarities, recs_size)\n",
    "        recs = recs.union(r) if recs else r\n",
    "        error += e\n",
    "        count += c\n",
    "        print(\"MSE: \", round(e/c, 3))\n",
    "        print()\n",
    "    error /= count\n",
    "    return recs, error**0.5"
   ]
  },
  {
   "cell_type": "code",
   "execution_count": 43,
   "metadata": {
    "scrolled": false
   },
   "outputs": [
    {
     "name": "stdout",
     "output_type": "stream",
     "text": [
      "Predicting for user: 4935\n",
      "MSE:  0.337\n",
      "\n",
      "Predicting for user: 7880\n",
      "MSE:  1.011\n",
      "\n",
      "Predicting for user: 7993\n",
      "MSE:  1.157\n",
      "\n",
      "Predicting for user: 10817\n",
      "MSE:  0.402\n",
      "\n",
      "Predicting for user: 13285\n",
      "MSE:  0.481\n",
      "\n",
      "Predicting for user: 23364\n",
      "MSE:  0.734\n",
      "\n",
      "Predicting for user: 23571\n",
      "MSE:  1.432\n",
      "\n",
      "Predicting for user: 25591\n",
      "MSE:  0.952\n",
      "\n",
      "Predicting for user: 34234\n",
      "MSE:  0.334\n",
      "\n",
      "Predicting for user: 34239\n",
      "MSE:  3.659\n",
      "\n",
      "RMSE:  0.9341897029596626\n",
      "+------+-------+--------------------+--------------------+------------------+\n",
      "|userId|movieId|               title|              genres|              pred|\n",
      "+------+-------+--------------------+--------------------+------------------+\n",
      "|  4935|   8025|Thief, The (Vor) ...|               Drama| 4.225135465870284|\n",
      "|  4935| 107627|Physician, The (2...|     Adventure|Drama|3.6975812898193454|\n",
      "|  4935|  46083|Drawing Restraint...|             Fantasy| 3.691640469826862|\n",
      "|  4935| 118338|Hard to Be a God ...|              Sci-Fi|3.6095736372850182|\n",
      "|  4935| 101862|50 Children: The ...|         Documentary| 3.480798181779134|\n",
      "|  4935|   3222|       Carmen (1984)|               Drama|3.3510207421783083|\n",
      "|  4935|  79830|Captain Conan (Ca...|           Drama|War| 3.132718363601221|\n",
      "|  4935|  86368|Confessions of a ...|               Drama| 3.132718363601221|\n",
      "|  4935|    406| Federal Hill (1994)|               Drama|3.1290963445501334|\n",
      "|  4935|   4538|Salome's Last Dan...|        Comedy|Drama|3.0521933412256725|\n",
      "|  7880|   7935|Face to Face (Ans...|Drama|Fantasy|Hor...|  4.10538067586451|\n",
      "|  7880|    406| Federal Hill (1994)|               Drama| 4.066807909170672|\n",
      "|  7880| 107627|Physician, The (2...|     Adventure|Drama|  3.95816353247729|\n",
      "|  7880|  71433|Black God, White ...|Adventure|Crime|D...|3.9527077673170097|\n",
      "|  7880| 100617|Patton Oswalt: No...|              Comedy| 3.925116155740657|\n",
      "|  7880| 120815|Patton Oswalt: We...|              Comedy| 3.925116155740657|\n",
      "|  7880|   8025|Thief, The (Vor) ...|               Drama|3.6944433408860546|\n",
      "|  7880| 117606|      Divorce (1945)|               Drama| 3.690033890212519|\n",
      "|  7880| 113947|Lady of Chance, A...|Comedy|Drama|Romance| 3.690033890212519|\n",
      "|  7880|  96098|Louise-Michel (2008)|              Comedy| 3.683862423340611|\n",
      "+------+-------+--------------------+--------------------+------------------+\n",
      "only showing top 20 rows\n",
      "\n"
     ]
    }
   ],
   "source": [
    "users = ratings.select([\"userId\"]).dropDuplicates().rdd.map(lambda r: r[0]).collect()[:10]\n",
    "recs, error = get_recommendations(users, weighted_similarities, recs_size=10)\n",
    "print(\"RMSE: \", error)\n",
    "recs = recs.cache()\n",
    "recs.show()"
   ]
  },
  {
   "cell_type": "code",
   "execution_count": 44,
   "metadata": {},
   "outputs": [],
   "source": [
    "del weighted_similarities"
   ]
  },
  {
   "cell_type": "code",
   "execution_count": 45,
   "metadata": {},
   "outputs": [],
   "source": [
    "ml_similarities = ss.read\\\n",
    "            .format(\"csv\")\\\n",
    "            .option('header', 'true')\\\n",
    "            .load(os.path.join(\"../data\",\"similarities.csv\"), inferSchema='true')"
   ]
  },
  {
   "cell_type": "code",
   "execution_count": 46,
   "metadata": {
    "scrolled": false
   },
   "outputs": [
    {
     "name": "stdout",
     "output_type": "stream",
     "text": [
      "+---+-----+------+\n",
      "|sim|   ui|    uj|\n",
      "+---+-----+------+\n",
      "|1.0| 5936| 52462|\n",
      "|1.0|13665| 48909|\n",
      "|1.0|13665| 60005|\n",
      "|1.0|13665| 57053|\n",
      "|1.0|13665|119197|\n",
      "|1.0|28599|130987|\n",
      "|1.0|28599| 93547|\n",
      "|1.0|28599|128323|\n",
      "|1.0|28599| 22963|\n",
      "|1.0|28599| 80987|\n",
      "|1.0|28599|108403|\n",
      "|1.0|38347| 81487|\n",
      "|1.0|38347|121535|\n",
      "|1.0|38347| 87135|\n",
      "|1.0|38347| 99871|\n",
      "|1.0|46880|  2062|\n",
      "|1.0|46880| 56342|\n",
      "|1.0|46880| 60398|\n",
      "|1.0|46880| 79734|\n",
      "|1.0|46880| 39766|\n",
      "+---+-----+------+\n",
      "only showing top 20 rows\n",
      "\n"
     ]
    }
   ],
   "source": [
    "ml_similarities.show()"
   ]
  },
  {
   "cell_type": "code",
   "execution_count": 47,
   "metadata": {},
   "outputs": [
    {
     "name": "stdout",
     "output_type": "stream",
     "text": [
      "Predicting for user: 4935\n",
      "MSE:  1.313\n",
      "\n",
      "Predicting for user: 7880\n",
      "MSE:  0.503\n",
      "\n",
      "Predicting for user: 7993\n",
      "MSE:  0.471\n",
      "\n",
      "Predicting for user: 10817\n",
      "MSE:  0.215\n",
      "\n",
      "Predicting for user: 13285\n",
      "MSE:  0.561\n",
      "\n",
      "Predicting for user: 23364\n",
      "MSE:  0.636\n",
      "\n",
      "Predicting for user: 23571\n",
      "MSE:  1.099\n",
      "\n",
      "Predicting for user: 25591\n",
      "MSE:  0.538\n",
      "\n",
      "Predicting for user: 34234\n",
      "MSE:  0.096\n",
      "\n",
      "Predicting for user: 34239\n",
      "MSE:  1.941\n",
      "\n",
      "RMSE:  0.8151495854796782\n",
      "+------+-------+--------------------+--------------------+------------------+\n",
      "|userId|movieId|               title|              genres|              pred|\n",
      "+------+-------+--------------------+--------------------+------------------+\n",
      "|  4935| 100617|Patton Oswalt: No...|              Comedy| 4.981067128142341|\n",
      "|  4935| 120815|Patton Oswalt: We...|              Comedy| 4.981067128142341|\n",
      "|  4935|    406| Federal Hill (1994)|               Drama| 4.976210295183103|\n",
      "|  4935|  71433|Black God, White ...|Adventure|Crime|D...|  4.87340685641366|\n",
      "|  4935| 118338|Hard to Be a God ...|              Sci-Fi| 4.819158858419826|\n",
      "|  4935| 107627|Physician, The (2...|     Adventure|Drama|4.7738579681177855|\n",
      "|  4935| 127096|Project Almanac (...|     Sci-Fi|Thriller| 4.487221819796898|\n",
      "|  4935| 102951|All In: The Poker...|         Documentary| 4.487221819796898|\n",
      "|  4935|  96098|Louise-Michel (2008)|              Comedy| 4.483981350992042|\n",
      "|  4935| 101597|Bag of Hammers, A...|        Comedy|Drama| 4.482960415328107|\n",
      "|  7880| 120815|Patton Oswalt: We...|              Comedy| 4.981067132541217|\n",
      "|  7880| 100617|Patton Oswalt: No...|              Comedy| 4.981067132541217|\n",
      "|  7880| 107627|Physician, The (2...|     Adventure|Drama| 4.980923027795314|\n",
      "|  7880|    406| Federal Hill (1994)|               Drama|4.9800326383520686|\n",
      "|  7880|  71433|Black God, White ...|Adventure|Crime|D...|4.8926033772982365|\n",
      "|  7880| 118338|Hard to Be a God ...|              Sci-Fi| 4.829797605585657|\n",
      "|  7880|   7935|Face to Face (Ans...|Drama|Fantasy|Hor...| 4.783288621501746|\n",
      "|  7880| 102951|All In: The Poker...|         Documentary| 4.487221819845636|\n",
      "|  7880| 127096|Project Almanac (...|     Sci-Fi|Thriller| 4.487221819845636|\n",
      "|  7880|  96098|Louise-Michel (2008)|              Comedy| 4.485917283349208|\n",
      "+------+-------+--------------------+--------------------+------------------+\n",
      "only showing top 20 rows\n",
      "\n"
     ]
    }
   ],
   "source": [
    "users = ratings.select([\"userId\"]).dropDuplicates().rdd.map(lambda r: r[0]).collect()[:10]\n",
    "mle_recs, error = get_recommendations(users, ml_similarities, recs_size=10)\n",
    "print(\"RMSE: \", error)\n",
    "mle_recs.show()"
   ]
  },
  {
   "cell_type": "markdown",
   "metadata": {},
   "source": [
    "### Notice that RMSE is not suitable for evaluating this approach, because predicted ratings are scaled by users similarities, which are typically very small. What matters is the rank of the prediction."
   ]
  },
  {
   "cell_type": "code",
   "execution_count": 48,
   "metadata": {},
   "outputs": [],
   "source": [
    "u1, u2 = recs.select([\"userId\"]).dropDuplicates().rdd.collect()[:2]\n",
    "u1, u2 = u1[0], u2[0]"
   ]
  },
  {
   "cell_type": "code",
   "execution_count": 49,
   "metadata": {},
   "outputs": [
    {
     "name": "stdout",
     "output_type": "stream",
     "text": [
      "+------+-------+--------+--------------------+--------------------+------+------------------+\n",
      "|userId|movieId|ratingId|               title|              genres|rating|   reliable_rating|\n",
      "+------+-------+--------+--------------------+--------------------+------+------------------+\n",
      "|  4935|   4973|  738692|Amelie (Fabuleux ...|      Comedy|Romance|   5.0|2.7136193837258067|\n",
      "|  4935|   2791|  738683|    Airplane! (1980)|              Comedy|   5.0|2.7136193837258067|\n",
      "|  4935|   2502|  738678| Office Space (1999)|        Comedy|Crime|   5.0|2.7136193837258067|\n",
      "|  4935|   1288|  738661|This Is Spinal Ta...|              Comedy|   4.5| 2.442257445353226|\n",
      "|  4935|   8464|  738705|Super Size Me (2004)|Comedy|Documentar...|   4.5| 2.442257445353226|\n",
      "|  4935|  93855|  738737|God Bless America...|        Comedy|Drama|   4.0|2.1708955069806453|\n",
      "|  4935|   3421|  738684| Animal House (1978)|              Comedy|   4.0|2.1708955069806453|\n",
      "|  4935|   1274|  738660|        Akira (1988)|Action|Adventure|...|   3.5|1.8995335686080645|\n",
      "|  4935|  58559|  738716|Dark Knight, The ...|Action|Crime|Dram...|   3.5|1.8995335686080645|\n",
      "|  4935|  94959|  738739|Moonrise Kingdom ...|Comedy|Drama|Romance|   3.5|1.8995335686080645|\n",
      "|  4935|  60072|  738717|       Wanted (2008)|     Action|Thriller|   3.5|1.8995335686080645|\n",
      "|  4935|   1884|  738666|Fear and Loathing...|Adventure|Comedy|...|   3.0|1.6281716302354838|\n",
      "|  4935|   1235|  738658|Harold and Maude ...|Comedy|Drama|Romance|   2.5|1.3568096918629033|\n",
      "|  4935|   1175|  738656| Delicatessen (1991)|Comedy|Drama|Romance|   2.5|1.3568096918629033|\n",
      "|  4935|   4144|  738690|In the Mood For L...|       Drama|Romance|   2.5|1.3568096918629033|\n",
      "|  4935|   6552|  738699|Dirty Pretty Thin...|Crime|Drama|Thriller|   2.5|1.3568096918629033|\n",
      "|  4935|  81083|  738720|       Kaboom (2010)|       Comedy|Sci-Fi|   2.5|1.3568096918629033|\n",
      "|  4935|   2313|  738675|Elephant Man, The...|               Drama|   2.0|1.0854477534903226|\n",
      "|  4935|  31309|  738714|Rocco and His Bro...|         Crime|Drama|   2.0|1.0854477534903226|\n",
      "|  4935|  91500|  738733|Hunger Games, The...|Action|Adventure|...|   2.0|1.0854477534903226|\n",
      "+------+-------+--------+--------------------+--------------------+------+------------------+\n",
      "only showing top 20 rows\n",
      "\n"
     ]
    }
   ],
   "source": [
    "# .withColumn(\"rank\", F.dense_rank().over(Window.partitionBy(\"userId\").orderBy(desc(\"reliable_rating\"))))\n",
    "ratings.filter(ratings.userId==u1).sort(desc(\"reliable_rating\")).show()"
   ]
  },
  {
   "cell_type": "code",
   "execution_count": 50,
   "metadata": {},
   "outputs": [
    {
     "name": "stdout",
     "output_type": "stream",
     "text": [
      "+------+-------+----------+--------------------+--------------------+------+-----------------+\n",
      "|userId|movieId|  ratingId|               title|              genres|rating|  reliable_rating|\n",
      "+------+-------+----------+--------------------+--------------------+------+-----------------+\n",
      "| 23571|    296|8590793923| Pulp Fiction (1994)|Comedy|Crime|Dram...|   5.0|4.857474084534058|\n",
      "| 23571|   1466|8590794051|Donnie Brasco (1997)|         Crime|Drama|   4.5|4.371726676080652|\n",
      "| 23571|   2231|8590794131|     Rounders (1998)|               Drama|   4.5|4.371726676080652|\n",
      "| 23571|    111|8590793897|  Taxi Driver (1976)|Crime|Drama|Thriller|   4.5|4.371726676080652|\n",
      "| 23571|  49530|8590794497|Blood Diamond (2006)|Action|Adventure|...|   4.5|4.371726676080652|\n",
      "| 23571|    593|8590793966|Silence of the La...|Crime|Horror|Thri...|   4.5|4.371726676080652|\n",
      "| 23571|  86377|8590794602|Louis C.K.: Shame...|              Comedy|   4.5|4.371726676080652|\n",
      "| 23571|   1265|8590794033|Groundhog Day (1993)|Comedy|Fantasy|Ro...|   4.5|4.371726676080652|\n",
      "| 23571|   1961|8590794107|     Rain Man (1988)|               Drama|   4.0|3.885979267627246|\n",
      "| 23571|    597|8590793967| Pretty Woman (1990)|      Comedy|Romance|   4.0|3.885979267627246|\n",
      "| 23571|    858|8590793986|Godfather, The (1...|         Crime|Drama|   4.0|3.885979267627246|\n",
      "| 23571|     81|8590793891|Things to Do in D...| Crime|Drama|Romance|   4.0|3.885979267627246|\n",
      "| 23571|    223|8590793909|       Clerks (1994)|              Comedy|   4.0|3.885979267627246|\n",
      "| 23571|   2329|8590794139|American History ...|         Crime|Drama|   4.0|3.885979267627246|\n",
      "| 23571|     47|8590793884|Seven (a.k.a. Se7...|    Mystery|Thriller|   4.0|3.885979267627246|\n",
      "| 23571|   2542|8590794165|Lock, Stock & Two...|Comedy|Crime|Thri...|   4.0|3.885979267627246|\n",
      "| 23571|   1721|8590794081|      Titanic (1997)|       Drama|Romance|   4.0|3.885979267627246|\n",
      "| 23571|   1206|8590794013|Clockwork Orange,...|Crime|Drama|Sci-F...|   4.0|3.885979267627246|\n",
      "| 23571|   2502|8590794161| Office Space (1999)|        Comedy|Crime|   4.0|3.885979267627246|\n",
      "| 23571|   3105|8590794218|   Awakenings (1990)|       Drama|Mystery|   4.0|3.885979267627246|\n",
      "+------+-------+----------+--------------------+--------------------+------+-----------------+\n",
      "only showing top 20 rows\n",
      "\n"
     ]
    }
   ],
   "source": [
    "ratings.filter(ratings.userId==u2).sort(desc(\"reliable_rating\")).show()"
   ]
  }
 ],
 "metadata": {
  "kernelspec": {
   "display_name": "Python 3",
   "language": "python",
   "name": "python3"
  },
  "language_info": {
   "codemirror_mode": {
    "name": "ipython",
    "version": 3
   },
   "file_extension": ".py",
   "mimetype": "text/x-python",
   "name": "python",
   "nbconvert_exporter": "python",
   "pygments_lexer": "ipython3",
   "version": "3.6.7"
  }
 },
 "nbformat": 4,
 "nbformat_minor": 1
}

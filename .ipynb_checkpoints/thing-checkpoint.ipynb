{
 "cells": [
  {
   "cell_type": "markdown",
   "metadata": {
    "collapsed": true
   },
   "source": [
    "### Initating Spark Session"
   ]
  },
  {
   "cell_type": "code",
   "execution_count": null,
   "metadata": {},
   "outputs": [],
   "source": [
    "# The code was removed by Watson Studio for sharing."
   ]
  },
  {
   "cell_type": "markdown",
   "metadata": {},
   "source": [
    "### Reading data"
   ]
  },
  {
   "cell_type": "code",
   "execution_count": null,
   "metadata": {},
   "outputs": [],
   "source": [
    "readcsv = lambda filename: spark.read\\\n",
    "  .format('org.apache.spark.sql.execution.datasources.csv.CSVFileFormat')\\\n",
    "  .option('header', 'true')\\\n",
    "  .load(cos.url(filename, 'movielens-donotdelete-pr-zexbejr3wdxjtx'), inferSchema='true')"
   ]
  },
  {
   "cell_type": "code",
   "execution_count": null,
   "metadata": {},
   "outputs": [],
   "source": [
    "genome_scores = readcsv(\"genome-scores.csv\")\n",
    "genome_scores.cache()\n",
    "genome_scores.show(5)"
   ]
  },
  {
   "cell_type": "code",
   "execution_count": null,
   "metadata": {},
   "outputs": [],
   "source": [
    "genome_tags = readcsv(\"genome-tags.csv\")\n",
    "genome_tags.show(5)"
   ]
  },
  {
   "cell_type": "code",
   "execution_count": null,
   "metadata": {},
   "outputs": [],
   "source": [
    "links = readcsv(\"links.csv\")\n",
    "links.show(5)"
   ]
  },
  {
   "cell_type": "code",
   "execution_count": null,
   "metadata": {},
   "outputs": [],
   "source": [
    "movies = readcsv(\"movies.csv\")\n",
    "movies.cache()\n",
    "movies.show(5)"
   ]
  },
  {
   "cell_type": "code",
   "execution_count": null,
   "metadata": {},
   "outputs": [],
   "source": [
    "ratings = readcsv(\"ratings.csv\")\n",
    "ratings.show(5)"
   ]
  },
  {
   "cell_type": "code",
   "execution_count": null,
   "metadata": {},
   "outputs": [],
   "source": [
    "tags = readcsv(\"tags.csv\")\n",
    "tags.show(5)"
   ]
  },
  {
   "cell_type": "markdown",
   "metadata": {},
   "source": [
    "## 1) Users' tag assignment reliability\n",
    "<img src=\"https://camo.githubusercontent.com/510767150d442634b53bfb2d0f63c4739b342e20/687474703a2f2f7777772e696e646961656475636174696f6e2e6e65742f696d6167657376725f63652f3639382f43726974696373253230312e6a7067\">\n",
    "\n",
    "### 1.1) Which \"User\" gave which \"Tag\" to which \"Movie\"?"
   ]
  },
  {
   "cell_type": "code",
   "execution_count": null,
   "metadata": {},
   "outputs": [],
   "source": [
    "userId_tagId_movieId = tags.join(genome_tags, on=\"tag\").select([\"userId\",\"tagId\",\"movieId\"])\n",
    "userId_tagId_movieId.cache()\n",
    "userId_tagId_movieId.show(10)"
   ]
  },
  {
   "cell_type": "markdown",
   "metadata": {},
   "source": [
    "### 1.2) How relevant each tag assignment was"
   ]
  },
  {
   "cell_type": "code",
   "execution_count": null,
   "metadata": {},
   "outputs": [],
   "source": [
    "userId_tagId_movieId_relevance = userId_tagId_movieId.join(genome_scores, on=[\"tagId\",\"movieId\"])\n",
    "userId_tagId_movieId_relevance.show(10)"
   ]
  },
  {
   "cell_type": "markdown",
   "metadata": {},
   "source": [
    "### 1.3) Calculating user reliability (ranges btw 0 --> 1)\n",
    "#### Irrelevant tag assignments are punished\n",
    "First multiply relevance with 10 and then substract $8$ so relevance score range will be between $-6$ and $6$ and then apply sigmoid function.\n",
    "Relevance scores less than or equal to $0.2$ will go closer to $0$.\n",
    "- $ R = \\sigma(r * 15 - 9) $\n",
    "- $R$ Reliability score\n",
    "- $r$ Relevance score\n",
    "<img src=\"https://upload.wikimedia.org/wikipedia/commons/thumb/8/88/Logistic-curve.svg/320px-Logistic-curve.svg.png\">"
   ]
  },
  {
   "cell_type": "code",
   "execution_count": null,
   "metadata": {},
   "outputs": [],
   "source": [
    "sigmoid = udf(lambda x: 1/(1+exp(-x)))"
   ]
  },
  {
   "cell_type": "code",
   "execution_count": null,
   "metadata": {},
   "outputs": [],
   "source": [
    "users_reliability = userId_tagId_movieId_relevance.select([\"userId\",\"relevance\"])\\\n",
    "                                            .withColumn(\"reliability\", sigmoid(userId_tagId_movieId_relevance.relevance*15-9).cast(DoubleType()))\\\n",
    "                                            .groupBy(\"userId\").avg(\"reliability\")\\\n",
    "                                            .select([\"userId\", col(\"avg(reliability)\").alias(\"reliability\")])\\\n",
    "                                            .sort(desc(\"reliability\"))\n",
    "\n",
    "users_reliability.show(10)"
   ]
  },
  {
   "cell_type": "markdown",
   "metadata": {},
   "source": [
    "## 2) Most reliably rated movies\n",
    "Ratings are multiplied by users' reliability scores"
   ]
  },
  {
   "cell_type": "code",
   "execution_count": null,
   "metadata": {},
   "outputs": [],
   "source": [
    "userId_movieId_ratings  = ratings.join(users_reliability, on=\"userId\")\\\n",
    "                                 .withColumn(\"rating\", round(col(\"rating\")*col(\"reliability\"), 1))\\\n",
    "                                 .select([\"userId\", \"movieId\", \"rating\"])\n",
    "userId_movieId_ratings.cache()"
   ]
  },
  {
   "cell_type": "code",
   "execution_count": null,
   "metadata": {},
   "outputs": [],
   "source": [
    "movieId_title_rating = userId_movieId_ratings.select([\"movieId\", \"rating\"])\\\n",
    "                                       .groupBy(\"movieId\").avg(\"rating\")\\\n",
    "                                       .join(movies, on=\"movieId\")\\\n",
    "                                       .select([\"movieId\", \"title\", col(\"avg(rating)\").alias(\"rating\")])\\\n",
    "                                       .sort(desc(\"rating\"))\n",
    "\n",
    "movieId_title_rating.show(10)"
   ]
  },
  {
   "cell_type": "markdown",
   "metadata": {},
   "source": [
    "### Most rated movie\n",
    "<img src=\"https://images-na.ssl-images-amazon.com/images/I/81dt7grDwyL._RI_.jpg\" width=400>"
   ]
  },
  {
   "cell_type": "markdown",
   "metadata": {},
   "source": [
    "## 3) Most reliably rated tags"
   ]
  },
  {
   "cell_type": "code",
   "execution_count": null,
   "metadata": {},
   "outputs": [],
   "source": [
    "tagId_tag_rating = userId_movieId_ratings.join(userId_tagId_movieId, on=[\"movieId\", \"userId\"])\\\n",
    "                                   .select([\"tagId\", \"rating\"])\\\n",
    "                                   .groupBy(\"tagId\").avg(\"rating\")\\\n",
    "                                   .join(genome_tags, on=\"tagId\")\\\n",
    "                                   .select([\"tagId\", \"tag\", col(\"avg(rating)\").alias(\"rating\")])\\\n",
    "                                   .sort(desc(\"rating\"))\n",
    "\n",
    "tagId_tag_rating.show(10)"
   ]
  },
  {
   "cell_type": "markdown",
   "metadata": {},
   "source": [
    "## 3) Most reliably rated genres"
   ]
  },
  {
   "cell_type": "code",
   "execution_count": null,
   "metadata": {},
   "outputs": [],
   "source": [
    "genre_rating = reliable_ratings.join(movies, on=\"movieId\")\n",
    "# TODO flatten genres \"Adventure|Animation|Children|Comedy|Fantasy\" ---> \"Adventure\", \"Animation\", \"Children\", \"Comedy\", \"Fantasy\""
   ]
  }
 ],
 "metadata": {
  "kernelspec": {
   "display_name": "Python 3",
   "language": "python",
   "name": "python3"
  },
  "language_info": {
   "codemirror_mode": {
    "name": "ipython",
    "version": 3
   },
   "file_extension": ".py",
   "mimetype": "text/x-python",
   "name": "python",
   "nbconvert_exporter": "python",
   "pygments_lexer": "ipython3",
   "version": "3.6.6"
  }
 },
 "nbformat": 4,
 "nbformat_minor": 1
}

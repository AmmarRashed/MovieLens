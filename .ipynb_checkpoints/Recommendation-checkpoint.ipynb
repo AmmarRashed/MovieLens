{
 "cells": [
  {
   "cell_type": "code",
   "execution_count": 1,
   "metadata": {},
   "outputs": [],
   "source": [
    "import os"
   ]
  },
  {
   "cell_type": "code",
   "execution_count": 12,
   "metadata": {},
   "outputs": [],
   "source": [
    "from pyspark import SparkContext\n",
    "from pyspark.sql import SparkSession\n",
    "\n",
    "from pyspark.ml.evaluation import RegressionEvaluator\n",
    "from pyspark.ml.recommendation import ALS, ALSModel\n",
    "from pyspark.ml.tuning import TrainValidationSplit, ParamGridBuilder"
   ]
  },
  {
   "cell_type": "code",
   "execution_count": 3,
   "metadata": {},
   "outputs": [],
   "source": [
    "sc = SparkContext.getOrCreate()\n",
    "ss = SparkSession(sc)"
   ]
  },
  {
   "cell_type": "code",
   "execution_count": 4,
   "metadata": {},
   "outputs": [
    {
     "name": "stdout",
     "output_type": "stream",
     "text": [
      "2,020,165\n",
      "+--------+------+-------+--------------------+------+------------------+\n",
      "|ratingId|userId|movieId|               title|rating|   reliable_rating|\n",
      "+--------+------+-------+--------------------+------+------------------+\n",
      "|  690318|  4581|      1|    Toy Story (1995)|   3.5|3.4679791510869786|\n",
      "|  690319|  4581|      2|      Jumanji (1995)|   2.5|2.4771279650621274|\n",
      "|  690320|  4581|     17|Sense and Sensibi...|   4.0| 3.963404744099404|\n",
      "|  690321|  4581|     19|Ace Ventura: When...|   3.5|3.4679791510869786|\n",
      "|  690322|  4581|     32|Twelve Monkeys (a...|   4.0| 3.963404744099404|\n",
      "+--------+------+-------+--------------------+------+------------------+\n",
      "only showing top 5 rows\n",
      "\n"
     ]
    }
   ],
   "source": [
    "ratings = ss.read\\\n",
    "                    .format(\"csv\")\\\n",
    "                    .option('header', 'true')\\\n",
    "                    .load(os.path.join(\"data\",\"userId_movieId_title_ratings.csv\"), inferSchema='true')\n",
    "\n",
    "ratings.persist()\n",
    "print(\"{0:,}\".format(ratings.count()))\n",
    "ratings.show(5)"
   ]
  },
  {
   "cell_type": "markdown",
   "metadata": {},
   "source": [
    "### ALS model\n",
    "\n",
    "<img src=\"misc/matrix_factorization.png\">"
   ]
  },
  {
   "cell_type": "code",
   "execution_count": 5,
   "metadata": {
    "scrolled": false
   },
   "outputs": [],
   "source": [
    "def evaluate_ALS(train, test, kwargs):\n",
    "    # coldStartStrategy parameter to “drop” in order\n",
    "    # to drop any rows in the DataFrame of predictions that contain NaN values.\n",
    "    als = ALS(**kwargs)\n",
    "    param_grid = ParamGridBuilder()\\\n",
    "                    .addGrid(als.rank, list(range(12, 15)))\\\n",
    "                    .addGrid(als.regParam, [i*0.01 for i in range(1, 17, 5)])\\\n",
    "                    .build()\n",
    "     \n",
    "    evaluator = RegressionEvaluator(metricName=\"rmse\", labelCol=kwargs[\"ratingCol\"],\n",
    "                                    predictionCol=\"prediction\")\n",
    "    tvs = TrainValidationSplit(\n",
    "        estimator=als,\n",
    "        estimatorParamMaps=param_grid,\n",
    "        evaluator=evaluator\n",
    "    )\n",
    "    model = tvs.fit(train).bestModel\n",
    "    \n",
    "    train_preds = model.transform(train)\n",
    "    test_preds = model.transform(test)\n",
    "    print(\"Best model: {0} rank, {1} reg param\".format(model.rank,\n",
    "                                                       model._java_obj.parent().getRegParam()))\n",
    "    print(\"train RMSE = {0}\".format(evaluator.evaluate(train_preds)))\n",
    "    print(\"test RMSE = {0}\".format(evaluator.evaluate(test_preds)))\n",
    "    \n",
    "    return model"
   ]
  },
  {
   "cell_type": "code",
   "execution_count": 6,
   "metadata": {},
   "outputs": [],
   "source": [
    "als_params = {\"userCol\":\"userId\", \"itemCol\":\"movieId\",\n",
    "              \"ratingCol\":\"rating\", \"coldStartStrategy\":\"drop\"}"
   ]
  },
  {
   "cell_type": "code",
   "execution_count": 7,
   "metadata": {
    "scrolled": false
   },
   "outputs": [
    {
     "name": "stdout",
     "output_type": "stream",
     "text": [
      "Best model: 14 rank, 0.06 reg param\n",
      "train RMSE = 0.6833607541885203\n",
      "test RMSE = 0.7541418796609234\n"
     ]
    }
   ],
   "source": [
    "train, test = ratings.randomSplit([0.9, 0.1])\n",
    "model = evaluate_ALS(train, test, als_params)"
   ]
  },
  {
   "cell_type": "code",
   "execution_count": 8,
   "metadata": {
    "scrolled": true
   },
   "outputs": [
    {
     "name": "stdout",
     "output_type": "stream",
     "text": [
      "Best model: 14 rank, 0.06 reg param\n",
      "train RMSE = 0.5679290097616302\n",
      "test RMSE = 0.6198449900878487\n"
     ]
    }
   ],
   "source": [
    "als_params[\"ratingCol\"]=\"reliable_rating\"\n",
    "reliable_model = evaluate_ALS(train, test, als_params)"
   ]
  },
  {
   "cell_type": "code",
   "execution_count": 9,
   "metadata": {},
   "outputs": [],
   "source": [
    "model.save(\"models/bl_als_model\")  # LOADING > model = ALSModel.load(\"models/bl_als_model\")\n",
    "reliable_model.save(\"models/als_model\")"
   ]
  },
  {
   "cell_type": "code",
   "execution_count": null,
   "metadata": {},
   "outputs": [],
   "source": [
    "def get_recommendations(model, moviesDf):\n",
    "    # Generate top 10 movie recommendations for each user\n",
    "    userRecs = model.recommendForAllUsers(10)\n",
    "\n",
    "    # Generate top 10 user recommendations for each movie\n",
    "    movieRecs = model.recommendForAllItems(10)"
   ]
  },
  {
   "cell_type": "code",
   "execution_count": 27,
   "metadata": {},
   "outputs": [],
   "source": [
    "userRecs = userRecs.cache()"
   ]
  },
  {
   "cell_type": "code",
   "execution_count": 28,
   "metadata": {},
   "outputs": [
    {
     "name": "stdout",
     "output_type": "stream",
     "text": [
      "+------+--------------------+\n",
      "|userId|     recommendations|\n",
      "+------+--------------------+\n",
      "|  7880|[[83829, 7.211159...|\n",
      "+------+--------------------+\n",
      "only showing top 1 row\n",
      "\n"
     ]
    }
   ],
   "source": [
    "userRecs."
   ]
  },
  {
   "cell_type": "code",
   "execution_count": null,
   "metadata": {},
   "outputs": [],
   "source": []
  }
 ],
 "metadata": {
  "kernelspec": {
   "display_name": "Python 3",
   "language": "python",
   "name": "python3"
  },
  "language_info": {
   "codemirror_mode": {
    "name": "ipython",
    "version": 3
   },
   "file_extension": ".py",
   "mimetype": "text/x-python",
   "name": "python",
   "nbconvert_exporter": "python",
   "pygments_lexer": "ipython3",
   "version": "3.6.7"
  }
 },
 "nbformat": 4,
 "nbformat_minor": 2
}

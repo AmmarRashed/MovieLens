{
 "cells": [
  {
   "cell_type": "code",
   "execution_count": 1,
   "metadata": {},
   "outputs": [],
   "source": [
    "import os"
   ]
  },
  {
   "cell_type": "code",
   "execution_count": 128,
   "metadata": {},
   "outputs": [],
   "source": [
    "from pyspark import SparkContext\n",
    "from pyspark.sql import SparkSession\n",
    "\n",
    "from pyspark import Row\n",
    "from pyspark.sql.functions import desc\n",
    "\n",
    "from pyspark.ml.evaluation import RegressionEvaluator\n",
    "from pyspark.ml.recommendation import ALS, ALSModel\n",
    "from pyspark.ml.tuning import TrainValidationSplit, ParamGridBuilder"
   ]
  },
  {
   "cell_type": "code",
   "execution_count": 3,
   "metadata": {},
   "outputs": [],
   "source": [
    "sc = SparkContext.getOrCreate()\n",
    "ss = SparkSession(sc)"
   ]
  },
  {
   "cell_type": "code",
   "execution_count": 4,
   "metadata": {},
   "outputs": [
    {
     "name": "stdout",
     "output_type": "stream",
     "text": [
      "2,020,165\n",
      "+--------+------+-------+--------------------+------+------------------+\n",
      "|ratingId|userId|movieId|               title|rating|   reliable_rating|\n",
      "+--------+------+-------+--------------------+------+------------------+\n",
      "|  690318|  4581|      1|    Toy Story (1995)|   3.5|3.4679791510869786|\n",
      "|  690319|  4581|      2|      Jumanji (1995)|   2.5|2.4771279650621274|\n",
      "|  690320|  4581|     17|Sense and Sensibi...|   4.0| 3.963404744099404|\n",
      "|  690321|  4581|     19|Ace Ventura: When...|   3.5|3.4679791510869786|\n",
      "|  690322|  4581|     32|Twelve Monkeys (a...|   4.0| 3.963404744099404|\n",
      "+--------+------+-------+--------------------+------+------------------+\n",
      "only showing top 5 rows\n",
      "\n"
     ]
    }
   ],
   "source": [
    "ratings = ss.read\\\n",
    "                    .format(\"csv\")\\\n",
    "                    .option('header', 'true')\\\n",
    "                    .load(os.path.join(\"data\",\"userId_movieId_title_ratings.csv\"), inferSchema='true')\n",
    "\n",
    "ratings.persist()\n",
    "print(\"{0:,}\".format(ratings.count()))\n",
    "ratings.show(5)"
   ]
  },
  {
   "cell_type": "code",
   "execution_count": 95,
   "metadata": {},
   "outputs": [],
   "source": [
    "movies = ratings.select([\"movieId\", \"title\"]).dropDuplicates()"
   ]
  },
  {
   "cell_type": "markdown",
   "metadata": {},
   "source": [
    "### ALS model\n",
    "\n",
    "<img src=\"misc/matrix_factorization.png\">"
   ]
  },
  {
   "cell_type": "code",
   "execution_count": 5,
   "metadata": {
    "scrolled": false
   },
   "outputs": [],
   "source": [
    "def evaluate_ALS(train, test, kwargs):\n",
    "    # coldStartStrategy parameter to “drop” in order\n",
    "    # to drop any rows in the DataFrame of predictions that contain NaN values.\n",
    "    als = ALS(**kwargs)\n",
    "    param_grid = ParamGridBuilder()\\\n",
    "                    .addGrid(als.rank, list(range(12, 15)))\\\n",
    "                    .addGrid(als.regParam, [i*0.01 for i in range(1, 17, 5)])\\\n",
    "                    .build()\n",
    "     \n",
    "    evaluator = RegressionEvaluator(metricName=\"rmse\", labelCol=kwargs[\"ratingCol\"],\n",
    "                                    predictionCol=\"prediction\")\n",
    "    tvs = TrainValidationSplit(\n",
    "        estimator=als,\n",
    "        estimatorParamMaps=param_grid,\n",
    "        evaluator=evaluator\n",
    "    )\n",
    "    model = tvs.fit(train).bestModel\n",
    "    \n",
    "    train_preds = model.transform(train)\n",
    "    test_preds = model.transform(test)\n",
    "    print(\"Best model: {0} rank, {1} reg param\".format(model.rank,\n",
    "                                                       model._java_obj.parent().getRegParam()))\n",
    "    print(\"train RMSE = {0}\".format(evaluator.evaluate(train_preds)))\n",
    "    print(\"test RMSE = {0}\".format(evaluator.evaluate(test_preds)))\n",
    "    \n",
    "    return model"
   ]
  },
  {
   "cell_type": "code",
   "execution_count": 6,
   "metadata": {},
   "outputs": [],
   "source": [
    "als_params = {\"userCol\":\"userId\", \"itemCol\":\"movieId\",\n",
    "              \"ratingCol\":\"rating\", \"coldStartStrategy\":\"drop\"}"
   ]
  },
  {
   "cell_type": "code",
   "execution_count": 7,
   "metadata": {
    "scrolled": false
   },
   "outputs": [
    {
     "name": "stdout",
     "output_type": "stream",
     "text": [
      "Best model: 14 rank, 0.06 reg param\n",
      "train RMSE = 0.6833607541885203\n",
      "test RMSE = 0.7541418796609234\n"
     ]
    }
   ],
   "source": [
    "train, test = ratings.randomSplit([0.9, 0.1])\n",
    "model = evaluate_ALS(train, test, als_params)"
   ]
  },
  {
   "cell_type": "code",
   "execution_count": 8,
   "metadata": {
    "scrolled": true
   },
   "outputs": [
    {
     "name": "stdout",
     "output_type": "stream",
     "text": [
      "Best model: 14 rank, 0.06 reg param\n",
      "train RMSE = 0.5679290097616302\n",
      "test RMSE = 0.6198449900878487\n"
     ]
    }
   ],
   "source": [
    "als_params[\"ratingCol\"]=\"reliable_rating\"\n",
    "reliable_model = evaluate_ALS(train, test, als_params)"
   ]
  },
  {
   "cell_type": "code",
   "execution_count": 9,
   "metadata": {},
   "outputs": [],
   "source": [
    "model.save(\"models/bl_als_model\")  # LOADING > model = ALSModel.load(\"models/bl_als_model\")\n",
    "reliable_model.save(\"models/als_model\")"
   ]
  },
  {
   "cell_type": "code",
   "execution_count": 119,
   "metadata": {},
   "outputs": [
    {
     "name": "stdout",
     "output_type": "stream",
     "text": [
      "+-------+--------------------+\n",
      "|movieId|               title|\n",
      "+-------+--------------------+\n",
      "|   2076|  Blue Velvet (1986)|\n",
      "|   1490|      B*A*P*S (1997)|\n",
      "|   2657|Rocky Horror Pict...|\n",
      "|   4085|Beverly Hills Cop...|\n",
      "|   6548|  Bad Boys II (2003)|\n",
      "+-------+--------------------+\n",
      "only showing top 5 rows\n",
      "\n"
     ]
    }
   ],
   "source": [
    "movies.show(5)"
   ]
  },
  {
   "cell_type": "code",
   "execution_count": 136,
   "metadata": {},
   "outputs": [],
   "source": [
    "def get_recommendations(model, movies):\n",
    "    # Generate top 10 movie recommendations for each user\n",
    "    userRecs = model.recommendForAllUsers(10).rdd.flatMapValues(lambda x: x)\\\n",
    "                                    .map(lambda x: Row(userId=x[0], **x[1].asDict()))\\\n",
    "                                    .toDF()\\\n",
    "                                    .join(movies, on=\"movieId\")\\\n",
    "                                    .select([\"userId\",\"movieId\", \"title\",\"rating\"])\\\n",
    "                                    .sort([\"userId\", desc(\"rating\")])\n",
    "\n",
    "    # Generate top 10 user recommendations for each movie\n",
    "    movieRecs = model.recommendForAllItems(10).rdd.flatMapValues(lambda x: x)\\\n",
    "                                    .map(lambda x: Row(movieId=x[0], **x[1].asDict()))\\\n",
    "                                    .toDF()\\\n",
    "                                    .join(movies, on=\"movieId\")\\\n",
    "                                    .select([\"movieId\", \"userId\", \"title\",\"rating\"])\\\n",
    "                                    .sort([\"movieId\", desc(\"rating\")])\n",
    "    \n",
    "    return userRecs, movieRecs"
   ]
  },
  {
   "cell_type": "code",
   "execution_count": 137,
   "metadata": {
    "scrolled": false
   },
   "outputs": [],
   "source": [
    "userRecs, movieRecs = get_recommendations(reliable_model, movies)"
   ]
  },
  {
   "cell_type": "code",
   "execution_count": 138,
   "metadata": {},
   "outputs": [
    {
     "name": "stdout",
     "output_type": "stream",
     "text": [
      "+------+-------+--------------------+-----------------+\n",
      "|userId|movieId|               title|           rating|\n",
      "+------+-------+--------------------+-----------------+\n",
      "|    65| 117909|     The Kiss (1900)| 5.06435489654541|\n",
      "|    65| 104803|    Holocaust (1978)|4.824891567230225|\n",
      "|    65| 103022|Eu Não Quero Volt...|4.806967735290527|\n",
      "|    65| 106048|Four Days in July...|4.800962924957275|\n",
      "|    65| 112423|I Belong (Som du ...|4.800962924957275|\n",
      "+------+-------+--------------------+-----------------+\n",
      "only showing top 5 rows\n",
      "\n"
     ]
    }
   ],
   "source": [
    "userRecs.show(5)"
   ]
  },
  {
   "cell_type": "code",
   "execution_count": 139,
   "metadata": {},
   "outputs": [
    {
     "name": "stdout",
     "output_type": "stream",
     "text": [
      "+-------+------+----------------+------------------+\n",
      "|movieId|userId|           title|            rating|\n",
      "+-------+------+----------------+------------------+\n",
      "|      1| 72714|Toy Story (1995)| 4.885940074920654|\n",
      "|      1|117942|Toy Story (1995)|4.8285441398620605|\n",
      "|      1|  8527|Toy Story (1995)| 4.736027717590332|\n",
      "|      1| 40617|Toy Story (1995)|4.7006330490112305|\n",
      "|      1| 53413|Toy Story (1995)|4.6796793937683105|\n",
      "+-------+------+----------------+------------------+\n",
      "only showing top 5 rows\n",
      "\n"
     ]
    }
   ],
   "source": [
    "movieRecs.show(5)"
   ]
  }
 ],
 "metadata": {
  "kernelspec": {
   "display_name": "Python 3",
   "language": "python",
   "name": "python3"
  },
  "language_info": {
   "codemirror_mode": {
    "name": "ipython",
    "version": 3
   },
   "file_extension": ".py",
   "mimetype": "text/x-python",
   "name": "python",
   "nbconvert_exporter": "python",
   "pygments_lexer": "ipython3",
   "version": "3.6.7"
  }
 },
 "nbformat": 4,
 "nbformat_minor": 2
}
